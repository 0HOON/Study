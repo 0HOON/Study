{
 "cells": [
  {
   "cell_type": "markdown",
   "id": "d0b131fc",
   "metadata": {},
   "source": [
    "# Exercise: Build a Movie Recommendation System\n",
    "Based on the Colab notebook [Recommendation Systems Colab](https://colab.research.google.com/github/google/eng-edu/blob/main/ml/recommendation-systems/recommendation-systems.ipynb?utm_source=ss-recommendation-systems&utm_campaign=colab-external&utm_medium=referral&utm_content=recommendation-systems)     \n",
    "\n",
    "\n",
    "\n",
    "Uses [MovieLens 100K movie ratings](https://grouplens.org/datasets/movielens/). 100,000 ratings from 1000 users on 1700 movies. Released 4/1998.   \n"
   ]
  },
  {
   "cell_type": "markdown",
   "id": "a35ce214",
   "metadata": {},
   "source": [
    "# Imports"
   ]
  },
  {
   "cell_type": "code",
   "execution_count": 1,
   "id": "508a94cc",
   "metadata": {},
   "outputs": [
    {
     "name": "stderr",
     "output_type": "stream",
     "text": [
      "<frozen importlib._bootstrap>:228: RuntimeWarning: scipy._lib.messagestream.MessageStream size changed, may indicate binary incompatibility. Expected 56 from C header, got 64 from PyObject\n"
     ]
    }
   ],
   "source": [
    "import numpy as np\n",
    "import pandas as pd\n",
    "from matplotlib import pyplot as plt\n",
    "from IPython import display\n",
    "import sklearn\n",
    "import sklearn.manifold\n",
    "from sklearn.model_selection import train_test_split\n",
    "import torch\n",
    "import torch.nn as nn\n",
    "\n",
    "torch.manual_seed(0)\n",
    "np.random.seed(0)"
   ]
  },
  {
   "cell_type": "markdown",
   "id": "a61517b4",
   "metadata": {},
   "source": [
    "# Load Data"
   ]
  },
  {
   "cell_type": "code",
   "execution_count": null,
   "id": "f570b0ad",
   "metadata": {},
   "outputs": [],
   "source": [
    "import zipfile\n",
    "zip_ref = zipfile.ZipFile('ml-100k.zip', 'r')\n",
    "zip_ref.extractall()\n",
    "print(str(zip_ref.read('ml-100k/u.info')))"
   ]
  },
  {
   "cell_type": "code",
   "execution_count": 2,
   "id": "ec582720",
   "metadata": {},
   "outputs": [
    {
     "data": {
      "text/html": [
       "<div>\n",
       "<style scoped>\n",
       "    .dataframe tbody tr th:only-of-type {\n",
       "        vertical-align: middle;\n",
       "    }\n",
       "\n",
       "    .dataframe tbody tr th {\n",
       "        vertical-align: top;\n",
       "    }\n",
       "\n",
       "    .dataframe thead th {\n",
       "        text-align: right;\n",
       "    }\n",
       "</style>\n",
       "<table border=\"1\" class=\"dataframe\">\n",
       "  <thead>\n",
       "    <tr style=\"text-align: right;\">\n",
       "      <th></th>\n",
       "      <th>user_id</th>\n",
       "      <th>movie_id</th>\n",
       "      <th>rating</th>\n",
       "      <th>unix_timestamp</th>\n",
       "      <th>title</th>\n",
       "      <th>release_date</th>\n",
       "      <th>video_release_date</th>\n",
       "      <th>imdb_url</th>\n",
       "      <th>genre_unknown</th>\n",
       "      <th>Action</th>\n",
       "      <th>...</th>\n",
       "      <th>Thriller</th>\n",
       "      <th>War</th>\n",
       "      <th>Western</th>\n",
       "      <th>year</th>\n",
       "      <th>genre</th>\n",
       "      <th>all_genres</th>\n",
       "      <th>age</th>\n",
       "      <th>sex</th>\n",
       "      <th>occupation</th>\n",
       "      <th>zip_code</th>\n",
       "    </tr>\n",
       "  </thead>\n",
       "  <tbody>\n",
       "    <tr>\n",
       "      <th>0</th>\n",
       "      <td>195</td>\n",
       "      <td>241</td>\n",
       "      <td>3.0</td>\n",
       "      <td>881250949</td>\n",
       "      <td>Kolya (1996)</td>\n",
       "      <td>24-Jan-1997</td>\n",
       "      <td>NaN</td>\n",
       "      <td>http://us.imdb.com/M/title-exact?Kolya%20(1996)</td>\n",
       "      <td>0</td>\n",
       "      <td>0</td>\n",
       "      <td>...</td>\n",
       "      <td>0</td>\n",
       "      <td>0</td>\n",
       "      <td>0</td>\n",
       "      <td>1997</td>\n",
       "      <td>Comedy</td>\n",
       "      <td>Comedy</td>\n",
       "      <td>49</td>\n",
       "      <td>M</td>\n",
       "      <td>writer</td>\n",
       "      <td>55105</td>\n",
       "    </tr>\n",
       "    <tr>\n",
       "      <th>1</th>\n",
       "      <td>195</td>\n",
       "      <td>256</td>\n",
       "      <td>2.0</td>\n",
       "      <td>881251577</td>\n",
       "      <td>Men in Black (1997)</td>\n",
       "      <td>04-Jul-1997</td>\n",
       "      <td>NaN</td>\n",
       "      <td>http://us.imdb.com/M/title-exact?Men+in+Black+...</td>\n",
       "      <td>0</td>\n",
       "      <td>1</td>\n",
       "      <td>...</td>\n",
       "      <td>0</td>\n",
       "      <td>0</td>\n",
       "      <td>0</td>\n",
       "      <td>1997</td>\n",
       "      <td>Adventure</td>\n",
       "      <td>Action&amp;Adventure&amp;Comedy&amp;Sci-Fi</td>\n",
       "      <td>49</td>\n",
       "      <td>M</td>\n",
       "      <td>writer</td>\n",
       "      <td>55105</td>\n",
       "    </tr>\n",
       "    <tr>\n",
       "      <th>2</th>\n",
       "      <td>195</td>\n",
       "      <td>110</td>\n",
       "      <td>4.0</td>\n",
       "      <td>881251793</td>\n",
       "      <td>Truth About Cats &amp; Dogs, The (1996)</td>\n",
       "      <td>26-Apr-1996</td>\n",
       "      <td>NaN</td>\n",
       "      <td>http://us.imdb.com/M/title-exact?Truth%20About...</td>\n",
       "      <td>0</td>\n",
       "      <td>0</td>\n",
       "      <td>...</td>\n",
       "      <td>0</td>\n",
       "      <td>0</td>\n",
       "      <td>0</td>\n",
       "      <td>1996</td>\n",
       "      <td>Romance</td>\n",
       "      <td>Comedy&amp;Romance</td>\n",
       "      <td>49</td>\n",
       "      <td>M</td>\n",
       "      <td>writer</td>\n",
       "      <td>55105</td>\n",
       "    </tr>\n",
       "    <tr>\n",
       "      <th>3</th>\n",
       "      <td>195</td>\n",
       "      <td>24</td>\n",
       "      <td>4.0</td>\n",
       "      <td>881251955</td>\n",
       "      <td>Birdcage, The (1996)</td>\n",
       "      <td>08-Mar-1996</td>\n",
       "      <td>NaN</td>\n",
       "      <td>http://us.imdb.com/M/title-exact?Birdcage,%20T...</td>\n",
       "      <td>0</td>\n",
       "      <td>0</td>\n",
       "      <td>...</td>\n",
       "      <td>0</td>\n",
       "      <td>0</td>\n",
       "      <td>0</td>\n",
       "      <td>1996</td>\n",
       "      <td>Comedy</td>\n",
       "      <td>Comedy</td>\n",
       "      <td>49</td>\n",
       "      <td>M</td>\n",
       "      <td>writer</td>\n",
       "      <td>55105</td>\n",
       "    </tr>\n",
       "    <tr>\n",
       "      <th>4</th>\n",
       "      <td>195</td>\n",
       "      <td>381</td>\n",
       "      <td>4.0</td>\n",
       "      <td>881251843</td>\n",
       "      <td>Adventures of Priscilla, Queen of the Desert, ...</td>\n",
       "      <td>01-Jan-1994</td>\n",
       "      <td>NaN</td>\n",
       "      <td>http://us.imdb.com/M/title-exact?Adventures%20...</td>\n",
       "      <td>0</td>\n",
       "      <td>0</td>\n",
       "      <td>...</td>\n",
       "      <td>0</td>\n",
       "      <td>0</td>\n",
       "      <td>0</td>\n",
       "      <td>1994</td>\n",
       "      <td>Comedy</td>\n",
       "      <td>Comedy&amp;Drama</td>\n",
       "      <td>49</td>\n",
       "      <td>M</td>\n",
       "      <td>writer</td>\n",
       "      <td>55105</td>\n",
       "    </tr>\n",
       "  </tbody>\n",
       "</table>\n",
       "<p>5 rows × 34 columns</p>\n",
       "</div>"
      ],
      "text/plain": [
       "   user_id  movie_id  rating  unix_timestamp  \\\n",
       "0      195       241     3.0       881250949   \n",
       "1      195       256     2.0       881251577   \n",
       "2      195       110     4.0       881251793   \n",
       "3      195        24     4.0       881251955   \n",
       "4      195       381     4.0       881251843   \n",
       "\n",
       "                                               title release_date  \\\n",
       "0                                       Kolya (1996)  24-Jan-1997   \n",
       "1                                Men in Black (1997)  04-Jul-1997   \n",
       "2                Truth About Cats & Dogs, The (1996)  26-Apr-1996   \n",
       "3                               Birdcage, The (1996)  08-Mar-1996   \n",
       "4  Adventures of Priscilla, Queen of the Desert, ...  01-Jan-1994   \n",
       "\n",
       "   video_release_date                                           imdb_url  \\\n",
       "0                 NaN    http://us.imdb.com/M/title-exact?Kolya%20(1996)   \n",
       "1                 NaN  http://us.imdb.com/M/title-exact?Men+in+Black+...   \n",
       "2                 NaN  http://us.imdb.com/M/title-exact?Truth%20About...   \n",
       "3                 NaN  http://us.imdb.com/M/title-exact?Birdcage,%20T...   \n",
       "4                 NaN  http://us.imdb.com/M/title-exact?Adventures%20...   \n",
       "\n",
       "   genre_unknown  Action  ...  Thriller  War  Western  year      genre  \\\n",
       "0              0       0  ...         0    0        0  1997     Comedy   \n",
       "1              0       1  ...         0    0        0  1997  Adventure   \n",
       "2              0       0  ...         0    0        0  1996    Romance   \n",
       "3              0       0  ...         0    0        0  1996     Comedy   \n",
       "4              0       0  ...         0    0        0  1994     Comedy   \n",
       "\n",
       "                       all_genres  age  sex  occupation  zip_code  \n",
       "0                          Comedy   49    M      writer     55105  \n",
       "1  Action&Adventure&Comedy&Sci-Fi   49    M      writer     55105  \n",
       "2                  Comedy&Romance   49    M      writer     55105  \n",
       "3                          Comedy   49    M      writer     55105  \n",
       "4                    Comedy&Drama   49    M      writer     55105  \n",
       "\n",
       "[5 rows x 34 columns]"
      ]
     },
     "execution_count": 2,
     "metadata": {},
     "output_type": "execute_result"
    }
   ],
   "source": [
    "users_cols = ['user_id', 'age', 'sex', 'occupation', 'zip_code']\n",
    "users = pd.read_csv('ml-100k/u.user', sep='|', names=users_cols, encoding='latin-1')\n",
    "\n",
    "ratings_cols = ['user_id', 'movie_id', 'rating', 'unix_timestamp']\n",
    "ratings = pd.read_csv('ml-100k/u.data', sep='\\t', names=ratings_cols, encoding='latin-1')\n",
    "\n",
    "genre_cols = [\n",
    "    \"genre_unknown\", \"Action\", \"Adventure\", \"Animation\", \"Children\", \"Comedy\",\n",
    "    \"Crime\", \"Documentary\", \"Drama\", \"Fantasy\", \"Film-Noir\", \"Horror\",\n",
    "    \"Musical\", \"Mystery\", \"Romance\", \"Sci-Fi\", \"Thriller\", \"War\", \"Western\"\n",
    "]\n",
    "\n",
    "movies_cols = [\n",
    "    'movie_id', 'title', 'release_date', \"video_release_date\", \"imdb_url\"\n",
    "] + genre_cols\n",
    "\n",
    "movies = pd.read_csv('ml-100k/u.item', sep='|', names=movies_cols, encoding='latin-1')\n",
    "\n",
    "# Make ids start at 0\n",
    "users[\"user_id\"] = users[\"user_id\"].apply(lambda x: int(x-1))\n",
    "movies[\"movie_id\"] = movies[\"movie_id\"].apply(lambda x: int(x-1))\n",
    "ratings[\"movie_id\"] = ratings[\"movie_id\"].apply(lambda x: int(x-1))\n",
    "ratings[\"user_id\"] = ratings[\"user_id\"].apply(lambda x: int(x-1))\n",
    "# Add year\n",
    "movies[\"year\"] = movies['release_date'].apply(lambda x: str(x).split('-')[-1])\n",
    "ratings[\"rating\"] = ratings[\"rating\"].apply(lambda x: float(x))\n",
    "\n",
    "# Compute the number of movies to which a genre is assigned\n",
    "genre_occurences = movies[genre_cols].sum().to_dict()\n",
    "\n",
    "# Add two cols to movies\n",
    "# all_genres: all the active genres of the movie\n",
    "# genre: randomly sampled genre from the active genres\n",
    "def mark_genres(moveis, genres):\n",
    "    def get_random_genre(gs):\n",
    "        active = [genre for genre, g in zip(genres, gs) if g==1]\n",
    "        if len(active) == 0:\n",
    "            return 'Other'\n",
    "        return np.random.choice(active)\n",
    "    def get_all_genres(gs):\n",
    "        active = [genre for genre, g in zip(genres, gs) if g==1]\n",
    "        if len(active) == 0:\n",
    "            return 'Other'\n",
    "        return '&'.join(active)\n",
    "    \n",
    "    movies['genre'] = [get_random_genre(gs) for gs in movies.loc[:, genres].to_numpy()]\n",
    "    movies['all_genres'] = [get_all_genres(gs) for gs in movies.loc[:, genres].to_numpy()]\n",
    "    \n",
    "mark_genres(movies, genre_cols)\n",
    "\n",
    "# Create one merged DataFrame containing all data (rating, movie, user)\n",
    "movielens = ratings.merge(movies, on='movie_id').merge(users, on='user_id')\n",
    "movielens.head()"
   ]
  },
  {
   "cell_type": "markdown",
   "id": "ae06a937",
   "metadata": {},
   "source": [
    "# Preliminaries\n",
    "Our goal is to factorize the ratings matrix $A$ into the product of a user embedding matrix $U$ and movie embedding matrix $V$, such that $A \\approx UV^\\top$ with\n",
    "$U = \\begin{bmatrix} u_{1} \\\\ \\hline \\vdots \\\\ \\hline u_{N} \\end{bmatrix}$ and\n",
    "$V = \\begin{bmatrix} v_{1} \\\\ \\hline \\vdots \\\\ \\hline v_{M} \\end{bmatrix}$.\n",
    "\n",
    "Here\n",
    "- $N$ is the number of users,\n",
    "- $M$ is the number of movies,\n",
    "- $A_{ij}$ is the rating of the $j$th movies by the $i$th user,\n",
    "- each row $U_i$ is a $d$-dimensional vector (embedding) representing user $i$,\n",
    "- each row $V_j$ is a $d$-dimensional vector (embedding) representing movie $j$,\n",
    "- the prediction of the model for the $(i, j)$ pair is the dot product $\\langle U_i, V_j \\rangle$."
   ]
  },
  {
   "cell_type": "markdown",
   "id": "0debde75",
   "metadata": {},
   "source": [
    "## Sparse Representation of the Rating Matrix\n",
    "\n",
    "The rating matrix could be very large and, in general, most of the entries are unobserved, since a given user will only rate a small subset of movies. For effcient representation, we will use a [torch.sparse](https://pytorch.org/docs/stable/sparse.html)\n"
   ]
  },
  {
   "cell_type": "code",
   "execution_count": 3,
   "id": "d58aa504",
   "metadata": {},
   "outputs": [],
   "source": [
    "def build_sparse_ratings(ratings_df):\n",
    "    indices = ratings_df[['user_id', 'movie_id']].values\n",
    "    values = ratings_df['rating'].values.astype('float32')\n",
    "    return torch.sparse_coo_tensor(\n",
    "        torch.tensor(indices).t(), \n",
    "        values, \n",
    "        (users.shape[0], movies.shape[0])\n",
    "    ).coalesce()"
   ]
  },
  {
   "cell_type": "markdown",
   "id": "2a8621ca",
   "metadata": {},
   "source": [
    "# Training a Matrix Factorization model\n",
    "Train a simple Matrix Factorization, Collaborative Filtering Model using Gradient Descent.     "
   ]
  },
  {
   "cell_type": "code",
   "execution_count": 4,
   "id": "3af2225a",
   "metadata": {},
   "outputs": [],
   "source": [
    "class CFModel(nn.Module):\n",
    "    def __init__(self, user_n, movie_n, embedding_dim=3, init_std=1.):\n",
    "        super().__init__()\n",
    "        self.user_embedding = nn.Embedding(user_n, embedding_dim)\n",
    "        self.movie_embedding = nn.Embedding(movie_n, embedding_dim)\n",
    "        nn.init.normal_(self.user_embedding.weight, mean=0.0, std=init_std)\n",
    "        nn.init.normal_(self.movie_embedding.weight, mean=0.0, std=init_std)\n",
    "    \n",
    "    def forward(self, sparse_ratings):\n",
    "        indices = sparse_ratings.indices()\n",
    "        pred = self.user_embedding.weight[indices[0]] * self.movie_embedding.weight[indices[1]]\n",
    "        return pred.sum(dim=1)\n"
   ]
  },
  {
   "cell_type": "code",
   "execution_count": 5,
   "id": "9ea11c29",
   "metadata": {},
   "outputs": [],
   "source": [
    "embedding_dim = 30\n",
    "init_std = .5\n",
    "epoch = 1000\n",
    "lr = 3e-3"
   ]
  },
  {
   "cell_type": "code",
   "execution_count": 6,
   "id": "7c88aedd",
   "metadata": {},
   "outputs": [],
   "source": [
    "train_ratings, val_ratings = train_test_split(ratings, random_state=200, test_size=0.1)\n",
    "A_train = build_sparse_ratings(train_ratings)\n",
    "A_val = build_sparse_ratings(val_ratings)"
   ]
  },
  {
   "cell_type": "code",
   "execution_count": 7,
   "id": "a5129549",
   "metadata": {},
   "outputs": [
    {
     "name": "stdout",
     "output_type": "stream",
     "text": [
      "---------------\n",
      "Epoch 200\n",
      "Train loss: 1.1045200824737549\n",
      "Validation loss: 1.8712081909179688\n",
      "---------------\n",
      "Epoch 400\n",
      "Train loss: 0.6331954002380371\n",
      "Validation loss: 1.4531906843185425\n",
      "---------------\n",
      "Epoch 600\n",
      "Train loss: 0.4739838242530823\n",
      "Validation loss: 1.387159824371338\n",
      "---------------\n",
      "Epoch 800\n",
      "Train loss: 0.38828229904174805\n",
      "Validation loss: 1.4104681015014648\n",
      "---------------\n",
      "Epoch 1000\n",
      "Train loss: 0.33282774686813354\n",
      "Validation loss: 1.4700047969818115\n"
     ]
    }
   ],
   "source": [
    "model = CFModel(users.shape[0], movies.shape[0], embedding_dim, init_std)\n",
    "optimizer = torch.optim.Adam(model.parameters(), lr=lr)\n",
    "criterion = torch.nn.MSELoss()\n",
    "\n",
    "for e in range(epoch):\n",
    "    # train\n",
    "    pred = model(A_train)\n",
    "    loss = criterion(pred, A_train.values())\n",
    "    \n",
    "    optimizer.zero_grad()\n",
    "    loss.backward()\n",
    "    optimizer.step()\n",
    "    \n",
    "    # valid\n",
    "    with torch.no_grad():\n",
    "        pred = model(A_val)\n",
    "        val_loss = criterion(pred, A_val.values())\n",
    "    \n",
    "    if e % 200 == 199:\n",
    "        print('---------------')\n",
    "        print(f'Epoch {e+1}')\n",
    "        print(f'Train loss: {loss.item()}\\nValidation loss: {val_loss.item()}')"
   ]
  },
  {
   "cell_type": "markdown",
   "id": "6ffb6556",
   "metadata": {},
   "source": [
    "# Inspecting the Embeddings"
   ]
  },
  {
   "cell_type": "markdown",
   "id": "bc794731",
   "metadata": {},
   "source": [
    "## Function for compute the scores of the candidates"
   ]
  },
  {
   "cell_type": "code",
   "execution_count": 7,
   "id": "b9faa3c3",
   "metadata": {},
   "outputs": [],
   "source": [
    "def compute_scores(query_emb, item_emb, measure='dot'):\n",
    "    # u : query embedding. [k]\n",
    "    # v : item embedding. [N, k]\n",
    "    # returns scores. [N]\n",
    "    u = query_emb\n",
    "    v = item_emb\n",
    "    if measure == 'cosine':\n",
    "        v = v / np.linalg.norm(v, axis=1, keepdims=True)\n",
    "        u = u / np.linalg.norm(u)\n",
    "    scores = u@v.T\n",
    "    return scores.numpy()"
   ]
  },
  {
   "cell_type": "markdown",
   "id": "d80931a2",
   "metadata": {},
   "source": [
    "## Function that shows Nearest Neighbors"
   ]
  },
  {
   "cell_type": "code",
   "execution_count": 8,
   "id": "6bc41b1e",
   "metadata": {},
   "outputs": [],
   "source": [
    "def movie_neighbors(model, title_substring, measure='dot', k=6):\n",
    "    # Search for movie ids that match the given string and shows top k high-scored results\n",
    "    ids = movies[movies['title'].str.contains(title_substring)].index.values\n",
    "    titles = movies.iloc[ids]['title'].values\n",
    "    if len(titles) == 0:\n",
    "        raise ValueError(f\"Found no movies with title {title_substring}\")\n",
    "    print(f\"Nearest neighbors of : {title_substring}\")\n",
    "    if len(titles) > 1:\n",
    "        print(f\"[Found more than one matching movie. Other candidates: {', '.join(titles[1:])}]\")\n",
    "    movie_id = ids[0]\n",
    "    scores = compute_scores(model.movie_embedding.weight[movie_id], model.movie_embedding.weight, measure)\n",
    "    score_key = measure + ' score'\n",
    "    df = pd.DataFrame({\n",
    "        score_key: scores,\n",
    "        'titles': movies['title'],\n",
    "        'genres': movies['all_genres']\n",
    "    })\n",
    "    display.display(df.sort_values([score_key], ascending=False).head(k))"
   ]
  },
  {
   "cell_type": "code",
   "execution_count": 10,
   "id": "3533139e",
   "metadata": {},
   "outputs": [
    {
     "name": "stdout",
     "output_type": "stream",
     "text": [
      "Nearest neighbors of : Aladdin\n",
      "[Found more than one matching movie. Other candidates: Aladdin and the King of Thieves (1996)]\n"
     ]
    },
    {
     "data": {
      "text/html": [
       "<div>\n",
       "<style scoped>\n",
       "    .dataframe tbody tr th:only-of-type {\n",
       "        vertical-align: middle;\n",
       "    }\n",
       "\n",
       "    .dataframe tbody tr th {\n",
       "        vertical-align: top;\n",
       "    }\n",
       "\n",
       "    .dataframe thead th {\n",
       "        text-align: right;\n",
       "    }\n",
       "</style>\n",
       "<table border=\"1\" class=\"dataframe\">\n",
       "  <thead>\n",
       "    <tr style=\"text-align: right;\">\n",
       "      <th></th>\n",
       "      <th>dot score</th>\n",
       "      <th>titles</th>\n",
       "      <th>genres</th>\n",
       "    </tr>\n",
       "  </thead>\n",
       "  <tbody>\n",
       "    <tr>\n",
       "      <th>94</th>\n",
       "      <td>5.900813</td>\n",
       "      <td>Aladdin (1992)</td>\n",
       "      <td>Animation-Children-Comedy-Musical</td>\n",
       "    </tr>\n",
       "    <tr>\n",
       "      <th>463</th>\n",
       "      <td>5.622905</td>\n",
       "      <td>Vanya on 42nd Street (1994)</td>\n",
       "      <td>Drama</td>\n",
       "    </tr>\n",
       "    <tr>\n",
       "      <th>1152</th>\n",
       "      <td>5.517310</td>\n",
       "      <td>Backbeat (1993)</td>\n",
       "      <td>Drama-Musical</td>\n",
       "    </tr>\n",
       "    <tr>\n",
       "      <th>662</th>\n",
       "      <td>5.429546</td>\n",
       "      <td>Being There (1979)</td>\n",
       "      <td>Comedy</td>\n",
       "    </tr>\n",
       "    <tr>\n",
       "      <th>1166</th>\n",
       "      <td>5.393538</td>\n",
       "      <td>Sum of Us, The (1994)</td>\n",
       "      <td>Comedy</td>\n",
       "    </tr>\n",
       "    <tr>\n",
       "      <th>70</th>\n",
       "      <td>5.367142</td>\n",
       "      <td>Lion King, The (1994)</td>\n",
       "      <td>Animation-Children-Musical</td>\n",
       "    </tr>\n",
       "    <tr>\n",
       "      <th>583</th>\n",
       "      <td>5.289026</td>\n",
       "      <td>Secret Garden, The (1993)</td>\n",
       "      <td>Children-Drama</td>\n",
       "    </tr>\n",
       "    <tr>\n",
       "      <th>752</th>\n",
       "      <td>5.257885</td>\n",
       "      <td>Burnt By the Sun (1994)</td>\n",
       "      <td>Drama</td>\n",
       "    </tr>\n",
       "    <tr>\n",
       "      <th>68</th>\n",
       "      <td>5.252112</td>\n",
       "      <td>Forrest Gump (1994)</td>\n",
       "      <td>Comedy-Romance-War</td>\n",
       "    </tr>\n",
       "    <tr>\n",
       "      <th>938</th>\n",
       "      <td>5.226188</td>\n",
       "      <td>Murder in the First (1995)</td>\n",
       "      <td>Drama-Thriller</td>\n",
       "    </tr>\n",
       "  </tbody>\n",
       "</table>\n",
       "</div>"
      ],
      "text/plain": [
       "      dot score                       titles  \\\n",
       "94     5.900813               Aladdin (1992)   \n",
       "463    5.622905  Vanya on 42nd Street (1994)   \n",
       "1152   5.517310              Backbeat (1993)   \n",
       "662    5.429546           Being There (1979)   \n",
       "1166   5.393538        Sum of Us, The (1994)   \n",
       "70     5.367142        Lion King, The (1994)   \n",
       "583    5.289026    Secret Garden, The (1993)   \n",
       "752    5.257885      Burnt By the Sun (1994)   \n",
       "68     5.252112          Forrest Gump (1994)   \n",
       "938    5.226188   Murder in the First (1995)   \n",
       "\n",
       "                                 genres  \n",
       "94    Animation-Children-Comedy-Musical  \n",
       "463                               Drama  \n",
       "1152                      Drama-Musical  \n",
       "662                              Comedy  \n",
       "1166                             Comedy  \n",
       "70           Animation-Children-Musical  \n",
       "583                      Children-Drama  \n",
       "752                               Drama  \n",
       "68                   Comedy-Romance-War  \n",
       "938                      Drama-Thriller  "
      ]
     },
     "metadata": {},
     "output_type": "display_data"
    },
    {
     "name": "stdout",
     "output_type": "stream",
     "text": [
      "Nearest neighbors of : Aladdin\n",
      "[Found more than one matching movie. Other candidates: Aladdin and the King of Thieves (1996)]\n"
     ]
    },
    {
     "data": {
      "text/html": [
       "<div>\n",
       "<style scoped>\n",
       "    .dataframe tbody tr th:only-of-type {\n",
       "        vertical-align: middle;\n",
       "    }\n",
       "\n",
       "    .dataframe tbody tr th {\n",
       "        vertical-align: top;\n",
       "    }\n",
       "\n",
       "    .dataframe thead th {\n",
       "        text-align: right;\n",
       "    }\n",
       "</style>\n",
       "<table border=\"1\" class=\"dataframe\">\n",
       "  <thead>\n",
       "    <tr style=\"text-align: right;\">\n",
       "      <th></th>\n",
       "      <th>cosine score</th>\n",
       "      <th>titles</th>\n",
       "      <th>genres</th>\n",
       "    </tr>\n",
       "  </thead>\n",
       "  <tbody>\n",
       "    <tr>\n",
       "      <th>94</th>\n",
       "      <td>1.000000</td>\n",
       "      <td>Aladdin (1992)</td>\n",
       "      <td>Animation-Children-Comedy-Musical</td>\n",
       "    </tr>\n",
       "    <tr>\n",
       "      <th>27</th>\n",
       "      <td>0.867371</td>\n",
       "      <td>Apollo 13 (1995)</td>\n",
       "      <td>Action-Drama-Thriller</td>\n",
       "    </tr>\n",
       "    <tr>\n",
       "      <th>203</th>\n",
       "      <td>0.845322</td>\n",
       "      <td>Back to the Future (1985)</td>\n",
       "      <td>Comedy-Sci-Fi</td>\n",
       "    </tr>\n",
       "    <tr>\n",
       "      <th>215</th>\n",
       "      <td>0.840648</td>\n",
       "      <td>When Harry Met Sally... (1989)</td>\n",
       "      <td>Comedy-Romance</td>\n",
       "    </tr>\n",
       "    <tr>\n",
       "      <th>70</th>\n",
       "      <td>0.829138</td>\n",
       "      <td>Lion King, The (1994)</td>\n",
       "      <td>Animation-Children-Musical</td>\n",
       "    </tr>\n",
       "    <tr>\n",
       "      <th>173</th>\n",
       "      <td>0.809964</td>\n",
       "      <td>Raiders of the Lost Ark (1981)</td>\n",
       "      <td>Action-Adventure</td>\n",
       "    </tr>\n",
       "    <tr>\n",
       "      <th>221</th>\n",
       "      <td>0.801711</td>\n",
       "      <td>Star Trek: First Contact (1996)</td>\n",
       "      <td>Action-Adventure-Sci-Fi</td>\n",
       "    </tr>\n",
       "    <tr>\n",
       "      <th>403</th>\n",
       "      <td>0.789487</td>\n",
       "      <td>Pinocchio (1940)</td>\n",
       "      <td>Animation-Children</td>\n",
       "    </tr>\n",
       "    <tr>\n",
       "      <th>209</th>\n",
       "      <td>0.787977</td>\n",
       "      <td>Indiana Jones and the Last Crusade (1989)</td>\n",
       "      <td>Action-Adventure</td>\n",
       "    </tr>\n",
       "    <tr>\n",
       "      <th>78</th>\n",
       "      <td>0.778102</td>\n",
       "      <td>Fugitive, The (1993)</td>\n",
       "      <td>Action-Thriller</td>\n",
       "    </tr>\n",
       "  </tbody>\n",
       "</table>\n",
       "</div>"
      ],
      "text/plain": [
       "     cosine score                                     titles  \\\n",
       "94       1.000000                             Aladdin (1992)   \n",
       "27       0.867371                           Apollo 13 (1995)   \n",
       "203      0.845322                  Back to the Future (1985)   \n",
       "215      0.840648             When Harry Met Sally... (1989)   \n",
       "70       0.829138                      Lion King, The (1994)   \n",
       "173      0.809964             Raiders of the Lost Ark (1981)   \n",
       "221      0.801711            Star Trek: First Contact (1996)   \n",
       "403      0.789487                           Pinocchio (1940)   \n",
       "209      0.787977  Indiana Jones and the Last Crusade (1989)   \n",
       "78       0.778102                       Fugitive, The (1993)   \n",
       "\n",
       "                                genres  \n",
       "94   Animation-Children-Comedy-Musical  \n",
       "27               Action-Drama-Thriller  \n",
       "203                      Comedy-Sci-Fi  \n",
       "215                     Comedy-Romance  \n",
       "70          Animation-Children-Musical  \n",
       "173                   Action-Adventure  \n",
       "221            Action-Adventure-Sci-Fi  \n",
       "403                 Animation-Children  \n",
       "209                   Action-Adventure  \n",
       "78                     Action-Thriller  "
      ]
     },
     "metadata": {},
     "output_type": "display_data"
    }
   ],
   "source": [
    "with torch.no_grad():\n",
    "    movie_neighbors(model, \"Aladdin\", 'dot', k=10)\n",
    "    movie_neighbors(model, \"Aladdin\", 'cosine', k=10)"
   ]
  },
  {
   "cell_type": "markdown",
   "id": "569ad025",
   "metadata": {},
   "source": [
    "## Embedding norm"
   ]
  },
  {
   "cell_type": "code",
   "execution_count": 9,
   "id": "534bf871",
   "metadata": {},
   "outputs": [],
   "source": [
    "def flatten_cols(df):\n",
    "    df.columns = [' '.join(col).strip() for col in df.columns.values]\n",
    "    return df\n",
    "pd.DataFrame.flatten_cols = flatten_cols"
   ]
  },
  {
   "cell_type": "code",
   "execution_count": 10,
   "id": "d7e79323",
   "metadata": {},
   "outputs": [
    {
     "data": {
      "text/html": [
       "<div>\n",
       "<style scoped>\n",
       "    .dataframe tbody tr th:only-of-type {\n",
       "        vertical-align: middle;\n",
       "    }\n",
       "\n",
       "    .dataframe tbody tr th {\n",
       "        vertical-align: top;\n",
       "    }\n",
       "\n",
       "    .dataframe thead th {\n",
       "        text-align: right;\n",
       "    }\n",
       "</style>\n",
       "<table border=\"1\" class=\"dataframe\">\n",
       "  <thead>\n",
       "    <tr style=\"text-align: right;\">\n",
       "      <th></th>\n",
       "      <th>movie_id</th>\n",
       "      <th>title</th>\n",
       "      <th>release_date</th>\n",
       "      <th>video_release_date</th>\n",
       "      <th>imdb_url</th>\n",
       "      <th>genre_unknown</th>\n",
       "      <th>Action</th>\n",
       "      <th>Adventure</th>\n",
       "      <th>Animation</th>\n",
       "      <th>Children</th>\n",
       "      <th>...</th>\n",
       "      <th>Romance</th>\n",
       "      <th>Sci-Fi</th>\n",
       "      <th>Thriller</th>\n",
       "      <th>War</th>\n",
       "      <th>Western</th>\n",
       "      <th>year</th>\n",
       "      <th>genre</th>\n",
       "      <th>all_genres</th>\n",
       "      <th>rating count</th>\n",
       "      <th>rating mean</th>\n",
       "    </tr>\n",
       "  </thead>\n",
       "  <tbody>\n",
       "    <tr>\n",
       "      <th>0</th>\n",
       "      <td>0</td>\n",
       "      <td>Toy Story (1995)</td>\n",
       "      <td>01-Jan-1995</td>\n",
       "      <td>NaN</td>\n",
       "      <td>http://us.imdb.com/M/title-exact?Toy%20Story%2...</td>\n",
       "      <td>0</td>\n",
       "      <td>0</td>\n",
       "      <td>0</td>\n",
       "      <td>1</td>\n",
       "      <td>1</td>\n",
       "      <td>...</td>\n",
       "      <td>0</td>\n",
       "      <td>0</td>\n",
       "      <td>0</td>\n",
       "      <td>0</td>\n",
       "      <td>0</td>\n",
       "      <td>1995</td>\n",
       "      <td>Animation</td>\n",
       "      <td>Animation&amp;Children&amp;Comedy</td>\n",
       "      <td>452</td>\n",
       "      <td>3.878319</td>\n",
       "    </tr>\n",
       "    <tr>\n",
       "      <th>1</th>\n",
       "      <td>1</td>\n",
       "      <td>GoldenEye (1995)</td>\n",
       "      <td>01-Jan-1995</td>\n",
       "      <td>NaN</td>\n",
       "      <td>http://us.imdb.com/M/title-exact?GoldenEye%20(...</td>\n",
       "      <td>0</td>\n",
       "      <td>1</td>\n",
       "      <td>1</td>\n",
       "      <td>0</td>\n",
       "      <td>0</td>\n",
       "      <td>...</td>\n",
       "      <td>0</td>\n",
       "      <td>0</td>\n",
       "      <td>1</td>\n",
       "      <td>0</td>\n",
       "      <td>0</td>\n",
       "      <td>1995</td>\n",
       "      <td>Adventure</td>\n",
       "      <td>Action&amp;Adventure&amp;Thriller</td>\n",
       "      <td>131</td>\n",
       "      <td>3.206107</td>\n",
       "    </tr>\n",
       "    <tr>\n",
       "      <th>2</th>\n",
       "      <td>2</td>\n",
       "      <td>Four Rooms (1995)</td>\n",
       "      <td>01-Jan-1995</td>\n",
       "      <td>NaN</td>\n",
       "      <td>http://us.imdb.com/M/title-exact?Four%20Rooms%...</td>\n",
       "      <td>0</td>\n",
       "      <td>0</td>\n",
       "      <td>0</td>\n",
       "      <td>0</td>\n",
       "      <td>0</td>\n",
       "      <td>...</td>\n",
       "      <td>0</td>\n",
       "      <td>0</td>\n",
       "      <td>1</td>\n",
       "      <td>0</td>\n",
       "      <td>0</td>\n",
       "      <td>1995</td>\n",
       "      <td>Thriller</td>\n",
       "      <td>Thriller</td>\n",
       "      <td>90</td>\n",
       "      <td>3.033333</td>\n",
       "    </tr>\n",
       "    <tr>\n",
       "      <th>3</th>\n",
       "      <td>3</td>\n",
       "      <td>Get Shorty (1995)</td>\n",
       "      <td>01-Jan-1995</td>\n",
       "      <td>NaN</td>\n",
       "      <td>http://us.imdb.com/M/title-exact?Get%20Shorty%...</td>\n",
       "      <td>0</td>\n",
       "      <td>1</td>\n",
       "      <td>0</td>\n",
       "      <td>0</td>\n",
       "      <td>0</td>\n",
       "      <td>...</td>\n",
       "      <td>0</td>\n",
       "      <td>0</td>\n",
       "      <td>0</td>\n",
       "      <td>0</td>\n",
       "      <td>0</td>\n",
       "      <td>1995</td>\n",
       "      <td>Action</td>\n",
       "      <td>Action&amp;Comedy&amp;Drama</td>\n",
       "      <td>209</td>\n",
       "      <td>3.550239</td>\n",
       "    </tr>\n",
       "    <tr>\n",
       "      <th>4</th>\n",
       "      <td>4</td>\n",
       "      <td>Copycat (1995)</td>\n",
       "      <td>01-Jan-1995</td>\n",
       "      <td>NaN</td>\n",
       "      <td>http://us.imdb.com/M/title-exact?Copycat%20(1995)</td>\n",
       "      <td>0</td>\n",
       "      <td>0</td>\n",
       "      <td>0</td>\n",
       "      <td>0</td>\n",
       "      <td>0</td>\n",
       "      <td>...</td>\n",
       "      <td>0</td>\n",
       "      <td>0</td>\n",
       "      <td>1</td>\n",
       "      <td>0</td>\n",
       "      <td>0</td>\n",
       "      <td>1995</td>\n",
       "      <td>Drama</td>\n",
       "      <td>Crime&amp;Drama&amp;Thriller</td>\n",
       "      <td>86</td>\n",
       "      <td>3.302326</td>\n",
       "    </tr>\n",
       "  </tbody>\n",
       "</table>\n",
       "<p>5 rows × 29 columns</p>\n",
       "</div>"
      ],
      "text/plain": [
       "   movie_id              title release_date  video_release_date  \\\n",
       "0         0   Toy Story (1995)  01-Jan-1995                 NaN   \n",
       "1         1   GoldenEye (1995)  01-Jan-1995                 NaN   \n",
       "2         2  Four Rooms (1995)  01-Jan-1995                 NaN   \n",
       "3         3  Get Shorty (1995)  01-Jan-1995                 NaN   \n",
       "4         4     Copycat (1995)  01-Jan-1995                 NaN   \n",
       "\n",
       "                                            imdb_url  genre_unknown  Action  \\\n",
       "0  http://us.imdb.com/M/title-exact?Toy%20Story%2...              0       0   \n",
       "1  http://us.imdb.com/M/title-exact?GoldenEye%20(...              0       1   \n",
       "2  http://us.imdb.com/M/title-exact?Four%20Rooms%...              0       0   \n",
       "3  http://us.imdb.com/M/title-exact?Get%20Shorty%...              0       1   \n",
       "4  http://us.imdb.com/M/title-exact?Copycat%20(1995)              0       0   \n",
       "\n",
       "   Adventure  Animation  Children  ...  Romance  Sci-Fi  Thriller  War  \\\n",
       "0          0          1         1  ...        0       0         0    0   \n",
       "1          1          0         0  ...        0       0         1    0   \n",
       "2          0          0         0  ...        0       0         1    0   \n",
       "3          0          0         0  ...        0       0         0    0   \n",
       "4          0          0         0  ...        0       0         1    0   \n",
       "\n",
       "   Western  year      genre                 all_genres  rating count  \\\n",
       "0        0  1995  Animation  Animation&Children&Comedy           452   \n",
       "1        0  1995  Adventure  Action&Adventure&Thriller           131   \n",
       "2        0  1995   Thriller                   Thriller            90   \n",
       "3        0  1995     Action        Action&Comedy&Drama           209   \n",
       "4        0  1995      Drama       Crime&Drama&Thriller            86   \n",
       "\n",
       "   rating mean  \n",
       "0     3.878319  \n",
       "1     3.206107  \n",
       "2     3.033333  \n",
       "3     3.550239  \n",
       "4     3.302326  \n",
       "\n",
       "[5 rows x 29 columns]"
      ]
     },
     "execution_count": 10,
     "metadata": {},
     "output_type": "execute_result"
    }
   ],
   "source": [
    "movies_ratings = movies.merge(\n",
    "    ratings\n",
    "    .groupby('movie_id', as_index=False)\n",
    "    .agg({'rating': ['count', 'mean']})\n",
    "    .flatten_cols(),\n",
    "    on='movie_id')\n",
    "\n",
    "movies_ratings.head(5)"
   ]
  },
  {
   "cell_type": "code",
   "execution_count": 11,
   "id": "92daad79",
   "metadata": {},
   "outputs": [],
   "source": [
    "def tsne_movie_embeddings(model):\n",
    "    tsne = sklearn.manifold.TSNE(\n",
    "        n_components=2, perplexity=40, metric='cosine', early_exaggeration=10.0, \n",
    "        init='pca', verbose=True, n_iter=400)\n",
    "    print('Running t-SNE...')\n",
    "    V_proj = tsne.fit_transform(model.movie_embedding.weight)\n",
    "    df = pd.DataFrame({\n",
    "        'title': movies['title'],\n",
    "        'genre': movies['genre'],\n",
    "    })\n",
    "    df.loc[:, 'x'] = V_proj[:, 0]\n",
    "    df.loc[:, 'y'] = V_proj[:, 1]\n",
    "    return df\n",
    "\n",
    "def movie_embedding_norm(model):\n",
    "    df = pd.DataFrame({\n",
    "        'title': movies['title'],\n",
    "        'genre': movies['genre'],\n",
    "        'num_ratings': movies_ratings['rating count'],\n",
    "    })\n",
    "    df['norm'] = np.linalg.norm(model.movie_embedding.weight, axis=1)\n",
    "    return df"
   ]
  },
  {
   "cell_type": "code",
   "execution_count": 14,
   "id": "bb6a4bb8",
   "metadata": {},
   "outputs": [
    {
     "name": "stdout",
     "output_type": "stream",
     "text": [
      "Running t-SNE...\n",
      "[t-SNE] Computing 121 nearest neighbors...\n",
      "[t-SNE] Indexed 1682 samples in 0.001s...\n"
     ]
    },
    {
     "name": "stderr",
     "output_type": "stream",
     "text": [
      "C:\\Users\\yhoon\\Anaconda3\\envs\\python39\\lib\\site-packages\\sklearn\\manifold\\_t_sne.py:790: FutureWarning: The default learning rate in TSNE will change from 200.0 to 'auto' in 1.2.\n",
      "  warnings.warn(\n",
      "C:\\Users\\yhoon\\Anaconda3\\envs\\python39\\lib\\site-packages\\sklearn\\manifold\\_t_sne.py:819: FutureWarning: 'square_distances' has been introduced in 0.24 to help phase out legacy squaring behavior. The 'legacy' setting will be removed in 1.1 (renaming of 0.26), and the default setting will be changed to True. In 1.3, 'square_distances' will be removed altogether, and distances will be squared by default. Set 'square_distances'=True to silence this warning.\n",
      "  warnings.warn(\n"
     ]
    },
    {
     "name": "stdout",
     "output_type": "stream",
     "text": [
      "[t-SNE] Computed neighbors for 1682 samples in 0.107s...\n",
      "[t-SNE] Computed conditional probabilities for sample 1000 / 1682\n",
      "[t-SNE] Computed conditional probabilities for sample 1682 / 1682\n",
      "[t-SNE] Mean sigma: 0.202031\n"
     ]
    },
    {
     "name": "stderr",
     "output_type": "stream",
     "text": [
      "C:\\Users\\yhoon\\Anaconda3\\envs\\python39\\lib\\site-packages\\sklearn\\manifold\\_t_sne.py:982: FutureWarning: The PCA initialization in TSNE will change to have the standard deviation of PC1 equal to 1e-4 in 1.2. This will ensure better convergence.\n",
      "  warnings.warn(\n"
     ]
    },
    {
     "name": "stdout",
     "output_type": "stream",
     "text": [
      "[t-SNE] KL divergence after 250 iterations with early exaggeration: 57.717491\n",
      "[t-SNE] KL divergence after 400 iterations: 2.652753\n"
     ]
    },
    {
     "data": {
      "text/plain": [
       "<matplotlib.collections.PathCollection at 0x2a404807f70>"
      ]
     },
     "execution_count": 14,
     "metadata": {},
     "output_type": "execute_result"
    },
    {
     "data": {
      "image/png": "[encoded data removed]",
      "text/plain": [
       "<Figure size 432x288 with 1 Axes>"
      ]
     },
     "metadata": {
      "needs_background": "light"
     },
     "output_type": "display_data"
    }
   ],
   "source": [
    "with torch.no_grad():\n",
    "    df = tsne_movie_embeddings(model)\n",
    "plt.scatter('x', 'y', data=df)"
   ]
  },
  {
   "cell_type": "code",
   "execution_count": 15,
   "id": "b6448e9d",
   "metadata": {},
   "outputs": [
    {
     "data": {
      "text/plain": [
       "<matplotlib.collections.PathCollection at 0x2a404c4dfd0>"
      ]
     },
     "execution_count": 15,
     "metadata": {},
     "output_type": "execute_result"
    },
    {
     "data": {
      "image/png": "[encoded data removed]",
      "text/plain": [
       "<Figure size 432x288 with 1 Axes>"
      ]
     },
     "metadata": {
      "needs_background": "light"
     },
     "output_type": "display_data"
    }
   ],
   "source": [
    "with torch.no_grad():\n",
    "    df = movie_embedding_norm(model)\n",
    "plt.scatter('num_ratings', 'norm', data=df)"
   ]
  },
  {
   "cell_type": "markdown",
   "id": "24f90906",
   "metadata": {},
   "source": [
    "## With lower std?\n",
    "Some niche movies (ones with few ratings) have a high norm, leading to spurious recommendations. This can happen if the embedding of that movie happens to be initialized with a high norm. Regularization will alleviate this problem.     \n",
    "Or, with lower init_std, niche movies will be initialized with a lower norm. The expected norm of a $d$ dimensional vector with entries $~N(0,\\sigma ^2)$ is approximatley $\\sigma\\sqrt{d}$    \n"
   ]
  },
  {
   "cell_type": "code",
   "execution_count": 16,
   "id": "bb541948",
   "metadata": {},
   "outputs": [],
   "source": [
    "embedding_dim = 30\n",
    "init_std = .05\n",
    "epoch = 1000\n",
    "lr = 3e-3"
   ]
  },
  {
   "cell_type": "code",
   "execution_count": 17,
   "id": "1ce69b68",
   "metadata": {},
   "outputs": [
    {
     "name": "stdout",
     "output_type": "stream",
     "text": [
      "---------------\n",
      "Epoch 200\n",
      "Train loss: 0.8076143860816956\n",
      "Validation loss: 0.9002135992050171\n",
      "---------------\n",
      "Epoch 400\n",
      "Train loss: 0.7288114428520203\n",
      "Validation loss: 0.8845545053482056\n",
      "---------------\n",
      "Epoch 600\n",
      "Train loss: 0.608353316783905\n",
      "Validation loss: 0.8822706341743469\n",
      "---------------\n",
      "Epoch 800\n",
      "Train loss: 0.47407934069633484\n",
      "Validation loss: 0.9131853580474854\n",
      "---------------\n",
      "Epoch 1000\n",
      "Train loss: 0.36035987734794617\n",
      "Validation loss: 0.98594069480896\n"
     ]
    }
   ],
   "source": [
    "model_lowstd = CFModel(users.shape[0], movies.shape[0], embedding_dim, init_std)\n",
    "optimizer = torch.optim.Adam(model_lowstd.parameters(), lr=lr)\n",
    "criterion = torch.nn.MSELoss()\n",
    "\n",
    "for e in range(epoch):\n",
    "    # train\n",
    "    pred = model_lowstd(A_train)\n",
    "    loss = criterion(pred, A_train.values())\n",
    "    \n",
    "    optimizer.zero_grad()\n",
    "    loss.backward()\n",
    "    optimizer.step()\n",
    "    \n",
    "    # valid\n",
    "    with torch.no_grad():\n",
    "        pred = model_lowstd(A_val)\n",
    "        val_loss = criterion(pred, A_val.values())\n",
    "    \n",
    "    if e % 200 == 199:\n",
    "        print('---------------')\n",
    "        print(f'Epoch {e+1}')\n",
    "        print(f'Train loss: {loss.item()}\\nValidation loss: {val_loss.item()}')"
   ]
  },
  {
   "cell_type": "code",
   "execution_count": 18,
   "id": "70ad7372",
   "metadata": {},
   "outputs": [
    {
     "name": "stdout",
     "output_type": "stream",
     "text": [
      "Running t-SNE...\n",
      "[t-SNE] Computing 121 nearest neighbors...\n",
      "[t-SNE] Indexed 1682 samples in 0.000s...\n",
      "[t-SNE] Computed neighbors for 1682 samples in 0.103s...\n",
      "[t-SNE] Computed conditional probabilities for sample 1000 / 1682\n"
     ]
    },
    {
     "name": "stderr",
     "output_type": "stream",
     "text": [
      "C:\\Users\\yhoon\\Anaconda3\\envs\\python39\\lib\\site-packages\\sklearn\\manifold\\_t_sne.py:790: FutureWarning: The default learning rate in TSNE will change from 200.0 to 'auto' in 1.2.\n",
      "  warnings.warn(\n",
      "C:\\Users\\yhoon\\Anaconda3\\envs\\python39\\lib\\site-packages\\sklearn\\manifold\\_t_sne.py:819: FutureWarning: 'square_distances' has been introduced in 0.24 to help phase out legacy squaring behavior. The 'legacy' setting will be removed in 1.1 (renaming of 0.26), and the default setting will be changed to True. In 1.3, 'square_distances' will be removed altogether, and distances will be squared by default. Set 'square_distances'=True to silence this warning.\n",
      "  warnings.warn(\n"
     ]
    },
    {
     "name": "stdout",
     "output_type": "stream",
     "text": [
      "[t-SNE] Computed conditional probabilities for sample 1682 / 1682\n",
      "[t-SNE] Mean sigma: 0.151448\n"
     ]
    },
    {
     "name": "stderr",
     "output_type": "stream",
     "text": [
      "C:\\Users\\yhoon\\Anaconda3\\envs\\python39\\lib\\site-packages\\sklearn\\manifold\\_t_sne.py:982: FutureWarning: The PCA initialization in TSNE will change to have the standard deviation of PC1 equal to 1e-4 in 1.2. This will ensure better convergence.\n",
      "  warnings.warn(\n"
     ]
    },
    {
     "name": "stdout",
     "output_type": "stream",
     "text": [
      "[t-SNE] KL divergence after 250 iterations with early exaggeration: 57.883858\n",
      "[t-SNE] KL divergence after 400 iterations: 2.021442\n"
     ]
    },
    {
     "data": {
      "text/plain": [
       "<matplotlib.collections.PathCollection at 0x2a404cc0fa0>"
      ]
     },
     "execution_count": 18,
     "metadata": {},
     "output_type": "execute_result"
    },
    {
     "data": {
      "image/png": "[encoded data removed]",
      "text/plain": [
       "<Figure size 432x288 with 1 Axes>"
      ]
     },
     "metadata": {
      "needs_background": "light"
     },
     "output_type": "display_data"
    }
   ],
   "source": [
    "with torch.no_grad():\n",
    "    df = tsne_movie_embeddings(model_lowstd)\n",
    "plt.scatter('x', 'y', data=df)"
   ]
  },
  {
   "cell_type": "code",
   "execution_count": 19,
   "id": "adda8c3d",
   "metadata": {},
   "outputs": [
    {
     "data": {
      "text/plain": [
       "<matplotlib.collections.PathCollection at 0x2a404d2dac0>"
      ]
     },
     "execution_count": 19,
     "metadata": {},
     "output_type": "execute_result"
    },
    {
     "data": {
      "image/png": "[encoded data removed]",
      "text/plain": [
       "<Figure size 432x288 with 1 Axes>"
      ]
     },
     "metadata": {
      "needs_background": "light"
     },
     "output_type": "display_data"
    }
   ],
   "source": [
    "with torch.no_grad():\n",
    "    df = movie_embedding_norm(model_lowstd)\n",
    "plt.scatter('num_ratings', 'norm', data=df)"
   ]
  },
  {
   "cell_type": "markdown",
   "id": "8f4211d4",
   "metadata": {},
   "source": [
    "# Regularization in Matrix Factorization\n",
    "The loss was observed part of the rating matrix. This can be problematic as the model does not learn how to place the embeddings of irrlevant movies. This phenomenon is known as **folding**.      \n",
    "To address this issue, we can add regularization terms.\n",
    "- Regularization of the model parameters.($l_2$ norm)     \n",
    "    $r(U, V) =  \\frac{1}{N} \\sum_i \\|U_i\\|^2 + \\frac{1}{M}\\sum_j \\|V_j\\|^2$.\n",
    "- A global prior that pushes the prediction of any pair towards zero, called the gravity term.     \n",
    "    $g(U, V) = \\frac{1}{MN} \\sum_{i = 1}^N \\sum_{j = 1}^M \\langle U_i, V_j \\rangle^2$.      \n",
    "As a result, the total loss is given by    \n",
    "$$\n",
    "\\frac{1}{|\\Omega|}\\sum_{(i, j) \\in \\Omega} (A_{ij} - \\langle U_i, V_j\\rangle)^2 + \\lambda _r r(U, V) + \\lambda_g g(U, V)\n",
    "$$\n",
    "$\\lambda_r$ and $\\lambda_g$ are regularization coefficients."
   ]
  },
  {
   "cell_type": "code",
   "execution_count": 11,
   "id": "d93c2b9c",
   "metadata": {},
   "outputs": [],
   "source": [
    "def reg_loss(pred, target, model, lambda_r, lambda_g):\n",
    "    loss = torch.nn.functional.mse_loss(pred, target)\n",
    "    U = model.user_embedding.weight\n",
    "    V = model.movie_embedding.weight\n",
    "    r = (U*U).sum() / U.shape[0] + (V*V).sum() / V.shape[0]\n",
    "    g = torch.sum((U@V.T)**2) / (U.shape[0] * V.shape[0])\n",
    "    return loss + lambda_r * r + lambda_g * g"
   ]
  },
  {
   "cell_type": "code",
   "execution_count": 11,
   "id": "c5e90c1e",
   "metadata": {},
   "outputs": [],
   "source": [
    "embedding_dim = 30\n",
    "init_std = .05\n",
    "epoch = 1000\n",
    "lr = 1e-2\n",
    "lambda_r = .1\n",
    "lambda_g = 1.0"
   ]
  },
  {
   "cell_type": "code",
   "execution_count": 16,
   "id": "ae23c110",
   "metadata": {},
   "outputs": [
    {
     "name": "stdout",
     "output_type": "stream",
     "text": [
      "---------------\n",
      "Epoch 200\n",
      "Train loss: 3.5411951541900635\n",
      "Validation loss: 4.121558666229248\n",
      "---------------\n",
      "Epoch 400\n",
      "Train loss: 3.281524181365967\n",
      "Validation loss: 4.373178482055664\n",
      "---------------\n",
      "Epoch 600\n",
      "Train loss: 3.239152431488037\n",
      "Validation loss: 4.449837684631348\n",
      "---------------\n",
      "Epoch 800\n",
      "Train loss: 3.2257678508758545\n",
      "Validation loss: 4.478466510772705\n",
      "---------------\n",
      "Epoch 1000\n",
      "Train loss: 3.219895362854004\n",
      "Validation loss: 4.486968994140625\n"
     ]
    }
   ],
   "source": [
    "from functools import partial\n",
    "\n",
    "model_reg = CFModel(users.shape[0], movies.shape[0], embedding_dim, init_std)\n",
    "optimizer = torch.optim.Adam(model_reg.parameters(), lr=lr)\n",
    "criterion = partial(reg_loss, model=model_reg, lambda_r=lambda_r, lambda_g=lambda_g)\n",
    "\n",
    "for e in range(epoch):\n",
    "    # train\n",
    "    pred = model_reg(A_train)\n",
    "    loss = criterion(pred, A_train.values())\n",
    "    \n",
    "    optimizer.zero_grad()\n",
    "    loss.backward()\n",
    "    optimizer.step()\n",
    "    \n",
    "    if e % 200 == 199:\n",
    "        # valid\n",
    "        with torch.no_grad():\n",
    "            pred = model_reg(A_val)\n",
    "            val_loss = criterion(pred, A_val.values())\n",
    "        print('---------------')\n",
    "        print(f'Epoch {e+1}')\n",
    "        print(f'Train loss: {loss.item()}\\nValidation loss: {val_loss.item()}')"
   ]
  },
  {
   "cell_type": "code",
   "execution_count": 17,
   "id": "2111dc06",
   "metadata": {},
   "outputs": [
    {
     "name": "stdout",
     "output_type": "stream",
     "text": [
      "Running t-SNE...\n",
      "[t-SNE] Computing 121 nearest neighbors...\n",
      "[t-SNE] Indexed 1682 samples in 0.000s...\n",
      "[t-SNE] Computed neighbors for 1682 samples in 0.107s...\n",
      "[t-SNE] Computed conditional probabilities for sample 1000 / 1682\n"
     ]
    },
    {
     "name": "stderr",
     "output_type": "stream",
     "text": [
      "C:\\Users\\yhoon\\Anaconda3\\envs\\python39\\lib\\site-packages\\sklearn\\manifold\\_t_sne.py:790: FutureWarning: The default learning rate in TSNE will change from 200.0 to 'auto' in 1.2.\n",
      "  warnings.warn(\n",
      "C:\\Users\\yhoon\\Anaconda3\\envs\\python39\\lib\\site-packages\\sklearn\\manifold\\_t_sne.py:819: FutureWarning: 'square_distances' has been introduced in 0.24 to help phase out legacy squaring behavior. The 'legacy' setting will be removed in 1.1 (renaming of 0.26), and the default setting will be changed to True. In 1.3, 'square_distances' will be removed altogether, and distances will be squared by default. Set 'square_distances'=True to silence this warning.\n",
      "  warnings.warn(\n"
     ]
    },
    {
     "name": "stdout",
     "output_type": "stream",
     "text": [
      "[t-SNE] Computed conditional probabilities for sample 1682 / 1682\n",
      "[t-SNE] Mean sigma: 0.251420\n"
     ]
    },
    {
     "name": "stderr",
     "output_type": "stream",
     "text": [
      "C:\\Users\\yhoon\\Anaconda3\\envs\\python39\\lib\\site-packages\\sklearn\\manifold\\_t_sne.py:982: FutureWarning: The PCA initialization in TSNE will change to have the standard deviation of PC1 equal to 1e-4 in 1.2. This will ensure better convergence.\n",
      "  warnings.warn(\n"
     ]
    },
    {
     "name": "stdout",
     "output_type": "stream",
     "text": [
      "[t-SNE] KL divergence after 250 iterations with early exaggeration: 58.050819\n",
      "[t-SNE] KL divergence after 400 iterations: 1.441702\n"
     ]
    },
    {
     "data": {
      "text/plain": [
       "<matplotlib.collections.PathCollection at 0x247b8966ac0>"
      ]
     },
     "execution_count": 17,
     "metadata": {},
     "output_type": "execute_result"
    },
    {
     "data": {
      "image/png": "[encoded data removed]",
      "text/plain": [
       "<Figure size 432x288 with 1 Axes>"
      ]
     },
     "metadata": {
      "needs_background": "light"
     },
     "output_type": "display_data"
    }
   ],
   "source": [
    "# much more clustered result!\n",
    "with torch.no_grad():\n",
    "    df = tsne_movie_embeddings(model_reg)\n",
    "plt.scatter('x', 'y', data=df)"
   ]
  },
  {
   "cell_type": "code",
   "execution_count": 21,
   "id": "e29483e7",
   "metadata": {},
   "outputs": [
    {
     "data": {
      "text/plain": [
       "<matplotlib.collections.PathCollection at 0x247b8bcc280>"
      ]
     },
     "execution_count": 21,
     "metadata": {},
     "output_type": "execute_result"
    },
    {
     "data": {
      "image/png": "[encoded data removed]",
      "text/plain": [
       "<Figure size 432x288 with 1 Axes>"
      ]
     },
     "metadata": {
      "needs_background": "light"
     },
     "output_type": "display_data"
    }
   ],
   "source": [
    "with torch.no_grad():\n",
    "    df = movie_embedding_norm(model_reg)\n",
    "plt.scatter('num_ratings', 'norm', data=df)"
   ]
  },
  {
   "cell_type": "code",
   "execution_count": 22,
   "id": "e906259d",
   "metadata": {},
   "outputs": [
    {
     "name": "stdout",
     "output_type": "stream",
     "text": [
      "Nearest neighbors of : Aladdin\n",
      "[Found more than one matching movie. Other candidates: Aladdin and the King of Thieves (1996)]\n"
     ]
    },
    {
     "data": {
      "text/html": [
       "<div>\n",
       "<style scoped>\n",
       "    .dataframe tbody tr th:only-of-type {\n",
       "        vertical-align: middle;\n",
       "    }\n",
       "\n",
       "    .dataframe tbody tr th {\n",
       "        vertical-align: top;\n",
       "    }\n",
       "\n",
       "    .dataframe thead th {\n",
       "        text-align: right;\n",
       "    }\n",
       "</style>\n",
       "<table border=\"1\" class=\"dataframe\">\n",
       "  <thead>\n",
       "    <tr style=\"text-align: right;\">\n",
       "      <th></th>\n",
       "      <th>dot score</th>\n",
       "      <th>titles</th>\n",
       "      <th>genres</th>\n",
       "    </tr>\n",
       "  </thead>\n",
       "  <tbody>\n",
       "    <tr>\n",
       "      <th>94</th>\n",
       "      <td>9.260647</td>\n",
       "      <td>Aladdin (1992)</td>\n",
       "      <td>Animation-Children-Comedy-Musical</td>\n",
       "    </tr>\n",
       "    <tr>\n",
       "      <th>70</th>\n",
       "      <td>8.243919</td>\n",
       "      <td>Lion King, The (1994)</td>\n",
       "      <td>Animation-Children-Musical</td>\n",
       "    </tr>\n",
       "    <tr>\n",
       "      <th>173</th>\n",
       "      <td>7.708430</td>\n",
       "      <td>Raiders of the Lost Ark (1981)</td>\n",
       "      <td>Action-Adventure</td>\n",
       "    </tr>\n",
       "    <tr>\n",
       "      <th>171</th>\n",
       "      <td>7.429685</td>\n",
       "      <td>Empire Strikes Back, The (1980)</td>\n",
       "      <td>Action-Adventure-Drama-Romance-Sci-Fi-War</td>\n",
       "    </tr>\n",
       "    <tr>\n",
       "      <th>0</th>\n",
       "      <td>7.341269</td>\n",
       "      <td>Toy Story (1995)</td>\n",
       "      <td>Animation-Children-Comedy</td>\n",
       "    </tr>\n",
       "    <tr>\n",
       "      <th>587</th>\n",
       "      <td>7.340140</td>\n",
       "      <td>Beauty and the Beast (1991)</td>\n",
       "      <td>Animation-Children-Musical</td>\n",
       "    </tr>\n",
       "    <tr>\n",
       "      <th>201</th>\n",
       "      <td>7.260428</td>\n",
       "      <td>Groundhog Day (1993)</td>\n",
       "      <td>Comedy-Romance</td>\n",
       "    </tr>\n",
       "    <tr>\n",
       "      <th>172</th>\n",
       "      <td>7.172075</td>\n",
       "      <td>Princess Bride, The (1987)</td>\n",
       "      <td>Action-Adventure-Comedy-Romance</td>\n",
       "    </tr>\n",
       "    <tr>\n",
       "      <th>203</th>\n",
       "      <td>6.985075</td>\n",
       "      <td>Back to the Future (1985)</td>\n",
       "      <td>Comedy-Sci-Fi</td>\n",
       "    </tr>\n",
       "    <tr>\n",
       "      <th>227</th>\n",
       "      <td>6.984586</td>\n",
       "      <td>Star Trek: The Wrath of Khan (1982)</td>\n",
       "      <td>Action-Adventure-Sci-Fi</td>\n",
       "    </tr>\n",
       "  </tbody>\n",
       "</table>\n",
       "</div>"
      ],
      "text/plain": [
       "     dot score                               titles  \\\n",
       "94    9.260647                       Aladdin (1992)   \n",
       "70    8.243919                Lion King, The (1994)   \n",
       "173   7.708430       Raiders of the Lost Ark (1981)   \n",
       "171   7.429685      Empire Strikes Back, The (1980)   \n",
       "0     7.341269                     Toy Story (1995)   \n",
       "587   7.340140          Beauty and the Beast (1991)   \n",
       "201   7.260428                 Groundhog Day (1993)   \n",
       "172   7.172075           Princess Bride, The (1987)   \n",
       "203   6.985075            Back to the Future (1985)   \n",
       "227   6.984586  Star Trek: The Wrath of Khan (1982)   \n",
       "\n",
       "                                        genres  \n",
       "94           Animation-Children-Comedy-Musical  \n",
       "70                  Animation-Children-Musical  \n",
       "173                           Action-Adventure  \n",
       "171  Action-Adventure-Drama-Romance-Sci-Fi-War  \n",
       "0                    Animation-Children-Comedy  \n",
       "587                 Animation-Children-Musical  \n",
       "201                             Comedy-Romance  \n",
       "172            Action-Adventure-Comedy-Romance  \n",
       "203                              Comedy-Sci-Fi  \n",
       "227                    Action-Adventure-Sci-Fi  "
      ]
     },
     "metadata": {},
     "output_type": "display_data"
    },
    {
     "name": "stdout",
     "output_type": "stream",
     "text": [
      "Nearest neighbors of : Aladdin\n",
      "[Found more than one matching movie. Other candidates: Aladdin and the King of Thieves (1996)]\n"
     ]
    },
    {
     "data": {
      "text/html": [
       "<div>\n",
       "<style scoped>\n",
       "    .dataframe tbody tr th:only-of-type {\n",
       "        vertical-align: middle;\n",
       "    }\n",
       "\n",
       "    .dataframe tbody tr th {\n",
       "        vertical-align: top;\n",
       "    }\n",
       "\n",
       "    .dataframe thead th {\n",
       "        text-align: right;\n",
       "    }\n",
       "</style>\n",
       "<table border=\"1\" class=\"dataframe\">\n",
       "  <thead>\n",
       "    <tr style=\"text-align: right;\">\n",
       "      <th></th>\n",
       "      <th>cosine score</th>\n",
       "      <th>titles</th>\n",
       "      <th>genres</th>\n",
       "    </tr>\n",
       "  </thead>\n",
       "  <tbody>\n",
       "    <tr>\n",
       "      <th>94</th>\n",
       "      <td>1.000000</td>\n",
       "      <td>Aladdin (1992)</td>\n",
       "      <td>Animation-Children-Comedy-Musical</td>\n",
       "    </tr>\n",
       "    <tr>\n",
       "      <th>70</th>\n",
       "      <td>0.912735</td>\n",
       "      <td>Lion King, The (1994)</td>\n",
       "      <td>Animation-Children-Musical</td>\n",
       "    </tr>\n",
       "    <tr>\n",
       "      <th>587</th>\n",
       "      <td>0.840456</td>\n",
       "      <td>Beauty and the Beast (1991)</td>\n",
       "      <td>Animation-Children-Musical</td>\n",
       "    </tr>\n",
       "    <tr>\n",
       "      <th>201</th>\n",
       "      <td>0.793564</td>\n",
       "      <td>Groundhog Day (1993)</td>\n",
       "      <td>Comedy-Romance</td>\n",
       "    </tr>\n",
       "    <tr>\n",
       "      <th>417</th>\n",
       "      <td>0.775695</td>\n",
       "      <td>Cinderella (1950)</td>\n",
       "      <td>Animation-Children-Musical</td>\n",
       "    </tr>\n",
       "    <tr>\n",
       "      <th>81</th>\n",
       "      <td>0.769274</td>\n",
       "      <td>Jurassic Park (1993)</td>\n",
       "      <td>Action-Adventure-Sci-Fi</td>\n",
       "    </tr>\n",
       "    <tr>\n",
       "      <th>98</th>\n",
       "      <td>0.768311</td>\n",
       "      <td>Snow White and the Seven Dwarfs (1937)</td>\n",
       "      <td>Animation-Children-Musical</td>\n",
       "    </tr>\n",
       "    <tr>\n",
       "      <th>968</th>\n",
       "      <td>0.747313</td>\n",
       "      <td>Winnie the Pooh and the Blustery Day (1968)</td>\n",
       "      <td>Animation-Children</td>\n",
       "    </tr>\n",
       "    <tr>\n",
       "      <th>418</th>\n",
       "      <td>0.731372</td>\n",
       "      <td>Mary Poppins (1964)</td>\n",
       "      <td>Children-Comedy-Musical</td>\n",
       "    </tr>\n",
       "    <tr>\n",
       "      <th>203</th>\n",
       "      <td>0.720162</td>\n",
       "      <td>Back to the Future (1985)</td>\n",
       "      <td>Comedy-Sci-Fi</td>\n",
       "    </tr>\n",
       "  </tbody>\n",
       "</table>\n",
       "</div>"
      ],
      "text/plain": [
       "     cosine score                                       titles  \\\n",
       "94       1.000000                               Aladdin (1992)   \n",
       "70       0.912735                        Lion King, The (1994)   \n",
       "587      0.840456                  Beauty and the Beast (1991)   \n",
       "201      0.793564                         Groundhog Day (1993)   \n",
       "417      0.775695                            Cinderella (1950)   \n",
       "81       0.769274                         Jurassic Park (1993)   \n",
       "98       0.768311       Snow White and the Seven Dwarfs (1937)   \n",
       "968      0.747313  Winnie the Pooh and the Blustery Day (1968)   \n",
       "418      0.731372                          Mary Poppins (1964)   \n",
       "203      0.720162                    Back to the Future (1985)   \n",
       "\n",
       "                                genres  \n",
       "94   Animation-Children-Comedy-Musical  \n",
       "70          Animation-Children-Musical  \n",
       "587         Animation-Children-Musical  \n",
       "201                     Comedy-Romance  \n",
       "417         Animation-Children-Musical  \n",
       "81             Action-Adventure-Sci-Fi  \n",
       "98          Animation-Children-Musical  \n",
       "968                 Animation-Children  \n",
       "418            Children-Comedy-Musical  \n",
       "203                      Comedy-Sci-Fi  "
      ]
     },
     "metadata": {},
     "output_type": "display_data"
    }
   ],
   "source": [
    "with torch.no_grad():\n",
    "    movie_neighbors(model_reg, \"Aladdin\", 'dot', k=10)\n",
    "    movie_neighbors(model_reg, \"Aladdin\", 'cosine', k=10)"
   ]
  },
  {
   "cell_type": "markdown",
   "id": "fbb60e4f",
   "metadata": {},
   "source": [
    "### Conclusion\n",
    "This concludes this section on matrix factorization models. Note that while the scale of the problem is small enough to allow efficient training using SGD, many practical problems need to be trained using more specialized algorithms such as Alternating Least Squares "
   ]
  },
  {
   "cell_type": "markdown",
   "id": "c5eb2cef",
   "metadata": {},
   "source": [
    "# Softmax model"
   ]
  },
  {
   "cell_type": "markdown",
   "id": "6bafa71d",
   "metadata": {},
   "source": [
    "We will train a simple softmax model that predicts whether a given user has rated a movie.    \n",
    "The labels are randomly chosen from the list of movies which are rated by the user."
   ]
  },
  {
   "cell_type": "code",
   "execution_count": 12,
   "id": "f730d17c",
   "metadata": {},
   "outputs": [
    {
     "data": {
      "text/html": [
       "<div>\n",
       "<style scoped>\n",
       "    .dataframe tbody tr th:only-of-type {\n",
       "        vertical-align: middle;\n",
       "    }\n",
       "\n",
       "    .dataframe tbody tr th {\n",
       "        vertical-align: top;\n",
       "    }\n",
       "\n",
       "    .dataframe thead th {\n",
       "        text-align: right;\n",
       "    }\n",
       "</style>\n",
       "<table border=\"1\" class=\"dataframe\">\n",
       "  <thead>\n",
       "    <tr style=\"text-align: right;\">\n",
       "      <th></th>\n",
       "      <th>user_id</th>\n",
       "      <th>movie_id</th>\n",
       "    </tr>\n",
       "  </thead>\n",
       "  <tbody>\n",
       "    <tr>\n",
       "      <th>0</th>\n",
       "      <td>0</td>\n",
       "      <td>[60, 188, 32, 159, 19, 201, 170, 264, 154, 116...</td>\n",
       "    </tr>\n",
       "    <tr>\n",
       "      <th>1</th>\n",
       "      <td>1</td>\n",
       "      <td>[291, 250, 49, 313, 296, 289, 311, 280, 12, 27...</td>\n",
       "    </tr>\n",
       "    <tr>\n",
       "      <th>2</th>\n",
       "      <td>2</td>\n",
       "      <td>[334, 244, 336, 342, 322, 330, 293, 331, 327, ...</td>\n",
       "    </tr>\n",
       "    <tr>\n",
       "      <th>3</th>\n",
       "      <td>3</td>\n",
       "      <td>[263, 302, 360, 356, 259, 355, 293, 287, 49, 3...</td>\n",
       "    </tr>\n",
       "    <tr>\n",
       "      <th>4</th>\n",
       "      <td>4</td>\n",
       "      <td>[1, 16, 438, 224, 109, 453, 423, 0, 362, 97, 1...</td>\n",
       "    </tr>\n",
       "  </tbody>\n",
       "</table>\n",
       "</div>"
      ],
      "text/plain": [
       "   user_id                                           movie_id\n",
       "0        0  [60, 188, 32, 159, 19, 201, 170, 264, 154, 116...\n",
       "1        1  [291, 250, 49, 313, 296, 289, 311, 280, 12, 27...\n",
       "2        2  [334, 244, 336, 342, 322, 330, 293, 331, 327, ...\n",
       "3        3  [263, 302, 360, 356, 259, 355, 293, 287, 49, 3...\n",
       "4        4  [1, 16, 438, 224, 109, 453, 423, 0, 362, 97, 1..."
      ]
     },
     "execution_count": 12,
     "metadata": {},
     "output_type": "execute_result"
    }
   ],
   "source": [
    "rated_movies = (ratings[[\"user_id\", \"movie_id\"]]\n",
    "                .groupby(\"user_id\", as_index=False)\n",
    "                .aggregate(lambda x: list(x)))\n",
    "rated_movies.head()"
   ]
  },
  {
   "cell_type": "markdown",
   "id": "e9d83332",
   "metadata": {},
   "source": [
    "We then create a dataset and dataloader, such that each example contains the following features:\n",
    "- movie_id: A tensor of strings of the movie ids that the user rated.\n",
    "- genre: A tensor of strings of the genres of those movies\n",
    "- year: A tensor of strings of the release year."
   ]
  },
  {
   "cell_type": "code",
   "execution_count": 13,
   "id": "231263a7",
   "metadata": {},
   "outputs": [],
   "source": [
    "from torch.utils.data import Dataset, DataLoader\n",
    "class MovieDataset(Dataset):\n",
    "    def __init__(self, rated_movies, movies, le_y, le_g):\n",
    "        self.movie = []\n",
    "        self.year = []\n",
    "        self.genre = []\n",
    "        \n",
    "        years_dict = {\n",
    "            movie: year for movie, year in zip(movies['movie_id'], movies['year'])\n",
    "        }\n",
    "\n",
    "        genres_dict = {\n",
    "            movie: genres.split('&') for movie, genres in zip(movies['movie_id'], movies['all_genres'])\n",
    "        }\n",
    "        \n",
    "        for movie_ids in rated_movies['movie_id'].values:\n",
    "            self.movie.append(movie_ids)\n",
    "            self.genre.append(le_g.transform([x for movie_id in movie_ids for x in genres_dict[movie_id]]))\n",
    "            self.year.append(le_y.transform([years_dict[movie_id] for movie_id in movie_ids]))\n",
    "            \n",
    "        self.label = self.movie\n",
    "        self.movie = self.pad(self.movie, movies.shape[0]).astype(int)\n",
    "        self.year = self.pad(self.year, len(le_y.classes_)).astype(int)\n",
    "        self.genre = self.pad(self.genre, len(le_g.classes_)).astype(int)\n",
    "        \n",
    "    def pad(self, x, fill):\n",
    "        return pd.DataFrame.from_dict(x).fillna(fill).values\n",
    "    \n",
    "    def __len__(self):\n",
    "        return len(self.movie)\n",
    "    \n",
    "    def __getitem__(self, idx):\n",
    "        rand_idx = np.random.randint(0, len(self.label[idx]))\n",
    "        return self.movie[idx], self.year[idx], self.genre[idx], self.label[idx][rand_idx]"
   ]
  },
  {
   "cell_type": "code",
   "execution_count": 14,
   "id": "43d963b7",
   "metadata": {},
   "outputs": [],
   "source": [
    "from sklearn import preprocessing\n",
    "le_y = preprocessing.LabelEncoder()\n",
    "le_y.fit(movies['year'])\n",
    "le_g = preprocessing.LabelEncoder()\n",
    "le_g.fit(genre_cols)\n",
    "\n",
    "train_rated, val_rated = train_test_split(rated_movies, random_state=200, test_size=0.1)\n",
    "ds_train = MovieDataset(train_rated, movies, le_y, le_g)\n",
    "ds_val = MovieDataset(val_rated, movies, le_y, le_g)"
   ]
  },
  {
   "cell_type": "markdown",
   "id": "a09c13d9",
   "metadata": {},
   "source": [
    "## SoftmaxModel\n",
    "Actually, this model doesn't use softmax model. This model produces a user embedding which is going to be multiplied with movie embeddings to calculate the corresponding logits of each movie. Then, the CrossEntropyLoss applies softmax function to the logits and use it to calculate the cross entropy loss. "
   ]
  },
  {
   "cell_type": "code",
   "execution_count": 50,
   "id": "7222fa24",
   "metadata": {},
   "outputs": [],
   "source": [
    "class SoftmaxModel(nn.Module):\n",
    "    def __init__(self, movie_n, year_n, genre_n, movie_dim, year_dim, genre_dim,\n",
    "                 n_hidden, hidden_dim, dropout=0.3, init_std=1.):\n",
    "        super().__init__()\n",
    "        self.movie_n = movie_n\n",
    "        self.year_n = year_n\n",
    "        self.genre_n = genre_n\n",
    "        self.movie_dim = movie_dim\n",
    "        self.year_dim = year_dim\n",
    "        self.genre_dim = genre_dim\n",
    "        \n",
    "        self.movie_embedding = nn.Embedding(movie_n+1, movie_dim)\n",
    "        self.year_embedding = nn.Embedding(year_n+1, year_dim)\n",
    "        self.genre_embedding = nn.Embedding(genre_n+1, genre_dim)\n",
    "        \n",
    "        nn.init.normal_(self.movie_embedding.weight, mean=0.0, std=init_std)\n",
    "        nn.init.normal_(self.year_embedding.weight, mean=0.0, std=init_std)\n",
    "        nn.init.normal_(self.genre_embedding.weight, mean=0.0, std=init_std)\n",
    "        \n",
    "        self.DNN = nn.ModuleList([nn.Linear(movie_dim + year_dim + genre_dim, hidden_dim)])\n",
    "        for _ in range(n_hidden):\n",
    "            self.DNN.append(nn.Linear(hidden_dim, hidden_dim, ))\n",
    "            self.DNN.append(nn.ReLU())\n",
    "            self.DNN.append(nn.Dropout(dropout))\n",
    "        self.DNN.append(nn.Linear(hidden_dim, movie_dim))\n",
    "        \n",
    "    def forward(self, movie, year, genre):\n",
    "        mask_movie = (movie != self.movie_n).unsqueeze(-1)\n",
    "        mask_year = (year != self.year_n).unsqueeze(-1)\n",
    "        mask_genre = (genre != self.genre_n).unsqueeze(-1)\n",
    "        \n",
    "        movie_ = torch.sum(self.movie_embedding(movie)*mask_movie, dim=1) / mask_movie.sum(dim=1)\n",
    "        year_ = torch.sum(self.year_embedding(year)*mask_year, dim=1) / mask_year.sum(dim=1)\n",
    "        genre_ = torch.sum(self.genre_embedding(genre)*mask_genre, dim=1) / mask_genre.sum(dim=1)\n",
    "        x = torch.cat([movie_, year_, genre_], 1)\n",
    "        \n",
    "        for l in self.DNN:\n",
    "            x = l(x)\n",
    "        \n",
    "        return x\n"
   ]
  },
  {
   "cell_type": "markdown",
   "id": "3577efdf",
   "metadata": {},
   "source": [
    "### Add Regularization term to Cross Entropy Loss"
   ]
  },
  {
   "cell_type": "code",
   "execution_count": 51,
   "id": "0c113cff",
   "metadata": {},
   "outputs": [],
   "source": [
    "def reg_loss_softmax(logit, target, U, V, lambda_r, lambda_g):\n",
    "    loss = torch.nn.functional.cross_entropy(logit, target)\n",
    "    r = (U*U).sum() / U.shape[0] + (V*V).sum() / V.shape[0]\n",
    "    g = torch.sum((U@V.T)**2) / (U.shape[0] * V.shape[0])\n",
    "    return loss + lambda_r * r + lambda_g * g"
   ]
  },
  {
   "cell_type": "markdown",
   "id": "d32470b0",
   "metadata": {},
   "source": [
    "## Train Softmax Model"
   ]
  },
  {
   "cell_type": "code",
   "execution_count": 52,
   "id": "15397a64",
   "metadata": {},
   "outputs": [],
   "source": [
    "movie_n = movies.shape[0]\n",
    "movie_dim = 35\n",
    "year_n = len(le_y.classes_)\n",
    "year_dim = 2\n",
    "genre_n = len(le_g.classes_)\n",
    "genre_dim = 3\n",
    "\n",
    "n_hidden = 1\n",
    "hidden_dim = 50\n",
    "dropout = .3\n",
    "init_std = .05\n",
    "\n",
    "epoch = 3000\n",
    "lr = 1e-3\n",
    "lambda_r = .1\n",
    "lambda_g = 1."
   ]
  },
  {
   "cell_type": "code",
   "execution_count": 53,
   "id": "9f29a11c",
   "metadata": {},
   "outputs": [],
   "source": [
    "device = 'cuda' if torch.cuda.is_available() else 'cpu'"
   ]
  },
  {
   "cell_type": "code",
   "execution_count": 54,
   "id": "38ae3c5f",
   "metadata": {},
   "outputs": [
    {
     "name": "stdout",
     "output_type": "stream",
     "text": [
      "Training Start!\n",
      "---------------\n",
      "---------------\n",
      "Epoch 200:  0m  16.30s\n",
      "Train loss:  7.02225\n",
      "Validation loss:  6.69373\n",
      "---------------\n",
      "Epoch 400:  0m  31.79s\n",
      "Train loss:  6.62935\n",
      "Validation loss:  6.54178\n",
      "---------------\n",
      "Epoch 600:  0m  47.35s\n",
      "Train loss:  6.86914\n",
      "Validation loss:  6.71105\n",
      "---------------\n",
      "Epoch 800:  1m  2.91s\n",
      "Train loss:  6.72435\n",
      "Validation loss:  6.52709\n",
      "---------------\n",
      "Epoch 1000:  1m  18.40s\n",
      "Train loss:  6.55970\n",
      "Validation loss:  6.42716\n",
      "---------------\n",
      "Epoch 1200:  1m  34.05s\n",
      "Train loss:  6.98600\n",
      "Validation loss:  6.37649\n",
      "---------------\n",
      "Epoch 1400:  1m  51.02s\n",
      "Train loss:  6.78786\n",
      "Validation loss:  6.50894\n",
      "---------------\n",
      "Epoch 1600:  2m  7.81s\n",
      "Train loss:  6.88513\n",
      "Validation loss:  6.60112\n",
      "---------------\n",
      "Epoch 1800:  2m  24.70s\n",
      "Train loss:  6.75459\n",
      "Validation loss:  6.34876\n",
      "---------------\n",
      "Epoch 2000:  2m  41.71s\n",
      "Train loss:  6.89618\n",
      "Validation loss:  6.37323\n",
      "---------------\n",
      "Epoch 2200:  2m  58.70s\n",
      "Train loss:  6.88103\n",
      "Validation loss:  6.41719\n",
      "---------------\n",
      "Epoch 2400:  3m  15.61s\n",
      "Train loss:  7.00055\n",
      "Validation loss:  6.51387\n",
      "---------------\n",
      "Epoch 2600:  3m  32.56s\n",
      "Train loss:  6.65129\n",
      "Validation loss:  6.56512\n",
      "---------------\n",
      "Epoch 2800:  3m  49.62s\n",
      "Train loss:  6.71489\n",
      "Validation loss:  6.38021\n",
      "---------------\n",
      "Epoch 3000:  4m  6.54s\n",
      "Train loss:  6.75853\n",
      "Validation loss:  6.47506\n"
     ]
    }
   ],
   "source": [
    "from time import time\n",
    "from torch.utils.data.dataloader import default_collate\n",
    "\n",
    "model_sm = SoftmaxModel(movie_n, year_n, genre_n, movie_dim, \n",
    "                        year_dim, genre_dim, n_hidden, hidden_dim, dropout, init_std).to(device)\n",
    "optimizer = torch.optim.Adam(model_sm.parameters(), lr=lr)\n",
    "\n",
    "dl_train = DataLoader(ds_train, batch_size=200, shuffle=True)\n",
    "dl_val = DataLoader(ds_val, batch_size=100, shuffle=True)\n",
    "\n",
    "print('Training Start!')\n",
    "print('---------------')\n",
    "start = time()\n",
    "for e in range(epoch):\n",
    "    # train\n",
    "    for (m, y, g, l) in dl_train:\n",
    "        m = m.to(device)\n",
    "        y = y.to(device)\n",
    "        g = g.to(device)\n",
    "        l = l.to(device)\n",
    "        user_emb = model_sm(m, y, g)\n",
    "        movie_emb = model_sm.movie_embedding.weight\n",
    "        logit = user_emb @ movie_emb.T\n",
    "        loss = reg_loss_softmax(logit, l, user_emb, movie_emb, lambda_r, lambda_g)\n",
    "    \n",
    "        optimizer.zero_grad()\n",
    "        loss.backward()\n",
    "        optimizer.step()\n",
    "        \n",
    "    # valid\n",
    "    if e % 200 == 199:\n",
    "        val_loss = 0\n",
    "        with torch.no_grad():\n",
    "            for m, y, g, l in dl_val:\n",
    "                m = m.to(device)\n",
    "                y = y.to(device)\n",
    "                g = g.to(device)\n",
    "                l = l.to(device)\n",
    "                user_emb = model_sm(m, y, g)\n",
    "                logit = user_emb @ model_sm.movie_embedding.weight.T\n",
    "                val_loss += criterion(logit, l).item()\n",
    "        print('---------------')\n",
    "        t = time() - start\n",
    "        print(f'Epoch {e+1}: {t//60: g}m {t%60: .2f}s')\n",
    "        print(f'Train loss: {loss.item(): .5f}\\nValidation loss: {val_loss: .5f}')"
   ]
  },
  {
   "cell_type": "markdown",
   "id": "8e7048ee",
   "metadata": {},
   "source": [
    "### Inspect the Embeddings of Softmax Model\n",
    "Due to the padding(which was crucial for making batches), embeddings of softmax model have one more dimension compared to the ones of previous models. To deal with it, let's first slightly fix the inspecting functions."
   ]
  },
  {
   "cell_type": "code",
   "execution_count": 55,
   "id": "cf36c338",
   "metadata": {},
   "outputs": [],
   "source": [
    "def movie_neighbors(model, title_substring, measure='dot', k=6):\n",
    "    # Search for movie ids that match the given string and shows top k high-scored results\n",
    "    ids = movies[movies['title'].str.contains(title_substring)].index.values\n",
    "    titles = movies.iloc[ids]['title'].values\n",
    "    if len(titles) == 0:\n",
    "        raise ValueError(f\"Found no movies with title {title_substring}\")\n",
    "    print(f\"Nearest neighbors of : {title_substring}\")\n",
    "    if len(titles) > 1:\n",
    "        print(f\"[Found more than one matching movie. Other candidates: {', '.join(titles[1:])}]\")\n",
    "    movie_id = ids[0]\n",
    "    scores = compute_scores(\n",
    "        model.movie_embedding.weight[movie_id], \n",
    "        model.movie_embedding.weight[:-1], # do not use last row\n",
    "        measure)\n",
    "    score_key = measure + ' score'\n",
    "    df = pd.DataFrame({\n",
    "        score_key: scores,\n",
    "        'titles': movies['title'],\n",
    "        'genres': movies['all_genres']\n",
    "    })\n",
    "    display.display(df.sort_values([score_key], ascending=False).head(k))\n",
    "\n",
    "def tsne_movie_embeddings(model):\n",
    "    tsne = sklearn.manifold.TSNE(\n",
    "        n_components=2, perplexity=40, metric='cosine', early_exaggeration=10.0, \n",
    "        init='pca', verbose=True, n_iter=400)\n",
    "    print('Running t-SNE...')\n",
    "    V_proj = tsne.fit_transform(model.movie_embedding.weight[:-1]) # do not use last row\n",
    "    df = pd.DataFrame({\n",
    "        'title': movies['title'],\n",
    "        'genre': movies['genre'],\n",
    "    })\n",
    "    df.loc[:, 'x'] = V_proj[:, 0]\n",
    "    df.loc[:, 'y'] = V_proj[:, 1]\n",
    "    return df\n",
    "\n",
    "def movie_embedding_norm(model):\n",
    "    df = pd.DataFrame({\n",
    "        'title': movies['title'],\n",
    "        'genre': movies['genre'],\n",
    "        'num_ratings': movies_ratings['rating count'],\n",
    "    })\n",
    "    df['norm'] = np.linalg.norm(model.movie_embedding.weight[:-1], axis=1) # do not use last row\n",
    "    return df"
   ]
  },
  {
   "cell_type": "code",
   "execution_count": 56,
   "id": "01dea74c",
   "metadata": {},
   "outputs": [
    {
     "name": "stdout",
     "output_type": "stream",
     "text": [
      "Nearest neighbors of : Aladdin\n",
      "[Found more than one matching movie. Other candidates: Aladdin and the King of Thieves (1996)]\n"
     ]
    },
    {
     "data": {
      "text/html": [
       "<div>\n",
       "<style scoped>\n",
       "    .dataframe tbody tr th:only-of-type {\n",
       "        vertical-align: middle;\n",
       "    }\n",
       "\n",
       "    .dataframe tbody tr th {\n",
       "        vertical-align: top;\n",
       "    }\n",
       "\n",
       "    .dataframe thead th {\n",
       "        text-align: right;\n",
       "    }\n",
       "</style>\n",
       "<table border=\"1\" class=\"dataframe\">\n",
       "  <thead>\n",
       "    <tr style=\"text-align: right;\">\n",
       "      <th></th>\n",
       "      <th>dot score</th>\n",
       "      <th>titles</th>\n",
       "      <th>genres</th>\n",
       "    </tr>\n",
       "  </thead>\n",
       "  <tbody>\n",
       "    <tr>\n",
       "      <th>55</th>\n",
       "      <td>2.519271</td>\n",
       "      <td>Pulp Fiction (1994)</td>\n",
       "      <td>Crime&amp;Drama</td>\n",
       "    </tr>\n",
       "    <tr>\n",
       "      <th>97</th>\n",
       "      <td>2.417080</td>\n",
       "      <td>Silence of the Lambs, The (1991)</td>\n",
       "      <td>Drama&amp;Thriller</td>\n",
       "    </tr>\n",
       "    <tr>\n",
       "      <th>173</th>\n",
       "      <td>2.285157</td>\n",
       "      <td>Raiders of the Lost Ark (1981)</td>\n",
       "      <td>Action&amp;Adventure</td>\n",
       "    </tr>\n",
       "    <tr>\n",
       "      <th>171</th>\n",
       "      <td>2.276910</td>\n",
       "      <td>Empire Strikes Back, The (1980)</td>\n",
       "      <td>Action&amp;Adventure&amp;Drama&amp;Romance&amp;Sci-Fi&amp;War</td>\n",
       "    </tr>\n",
       "    <tr>\n",
       "      <th>120</th>\n",
       "      <td>2.269599</td>\n",
       "      <td>Independence Day (ID4) (1996)</td>\n",
       "      <td>Action&amp;Sci-Fi&amp;War</td>\n",
       "    </tr>\n",
       "    <tr>\n",
       "      <th>78</th>\n",
       "      <td>2.212626</td>\n",
       "      <td>Fugitive, The (1993)</td>\n",
       "      <td>Action&amp;Thriller</td>\n",
       "    </tr>\n",
       "    <tr>\n",
       "      <th>194</th>\n",
       "      <td>2.195443</td>\n",
       "      <td>Terminator, The (1984)</td>\n",
       "      <td>Action&amp;Sci-Fi&amp;Thriller</td>\n",
       "    </tr>\n",
       "    <tr>\n",
       "      <th>209</th>\n",
       "      <td>2.195373</td>\n",
       "      <td>Indiana Jones and the Last Crusade (1989)</td>\n",
       "      <td>Action&amp;Adventure</td>\n",
       "    </tr>\n",
       "    <tr>\n",
       "      <th>95</th>\n",
       "      <td>2.100651</td>\n",
       "      <td>Terminator 2: Judgment Day (1991)</td>\n",
       "      <td>Action&amp;Sci-Fi&amp;Thriller</td>\n",
       "    </tr>\n",
       "    <tr>\n",
       "      <th>182</th>\n",
       "      <td>2.057274</td>\n",
       "      <td>Alien (1979)</td>\n",
       "      <td>Action&amp;Horror&amp;Sci-Fi&amp;Thriller</td>\n",
       "    </tr>\n",
       "  </tbody>\n",
       "</table>\n",
       "</div>"
      ],
      "text/plain": [
       "     dot score                                     titles  \\\n",
       "55    2.519271                        Pulp Fiction (1994)   \n",
       "97    2.417080           Silence of the Lambs, The (1991)   \n",
       "173   2.285157             Raiders of the Lost Ark (1981)   \n",
       "171   2.276910            Empire Strikes Back, The (1980)   \n",
       "120   2.269599              Independence Day (ID4) (1996)   \n",
       "78    2.212626                       Fugitive, The (1993)   \n",
       "194   2.195443                     Terminator, The (1984)   \n",
       "209   2.195373  Indiana Jones and the Last Crusade (1989)   \n",
       "95    2.100651          Terminator 2: Judgment Day (1991)   \n",
       "182   2.057274                               Alien (1979)   \n",
       "\n",
       "                                        genres  \n",
       "55                                 Crime&Drama  \n",
       "97                              Drama&Thriller  \n",
       "173                           Action&Adventure  \n",
       "171  Action&Adventure&Drama&Romance&Sci-Fi&War  \n",
       "120                          Action&Sci-Fi&War  \n",
       "78                             Action&Thriller  \n",
       "194                     Action&Sci-Fi&Thriller  \n",
       "209                           Action&Adventure  \n",
       "95                      Action&Sci-Fi&Thriller  \n",
       "182              Action&Horror&Sci-Fi&Thriller  "
      ]
     },
     "metadata": {},
     "output_type": "display_data"
    },
    {
     "name": "stdout",
     "output_type": "stream",
     "text": [
      "Nearest neighbors of : Aladdin\n",
      "[Found more than one matching movie. Other candidates: Aladdin and the King of Thieves (1996)]\n"
     ]
    },
    {
     "data": {
      "text/html": [
       "<div>\n",
       "<style scoped>\n",
       "    .dataframe tbody tr th:only-of-type {\n",
       "        vertical-align: middle;\n",
       "    }\n",
       "\n",
       "    .dataframe tbody tr th {\n",
       "        vertical-align: top;\n",
       "    }\n",
       "\n",
       "    .dataframe thead th {\n",
       "        text-align: right;\n",
       "    }\n",
       "</style>\n",
       "<table border=\"1\" class=\"dataframe\">\n",
       "  <thead>\n",
       "    <tr style=\"text-align: right;\">\n",
       "      <th></th>\n",
       "      <th>cosine score</th>\n",
       "      <th>titles</th>\n",
       "      <th>genres</th>\n",
       "    </tr>\n",
       "  </thead>\n",
       "  <tbody>\n",
       "    <tr>\n",
       "      <th>94</th>\n",
       "      <td>1.000000</td>\n",
       "      <td>Aladdin (1992)</td>\n",
       "      <td>Animation&amp;Children&amp;Comedy&amp;Musical</td>\n",
       "    </tr>\n",
       "    <tr>\n",
       "      <th>587</th>\n",
       "      <td>0.992089</td>\n",
       "      <td>Beauty and the Beast (1991)</td>\n",
       "      <td>Animation&amp;Children&amp;Musical</td>\n",
       "    </tr>\n",
       "    <tr>\n",
       "      <th>70</th>\n",
       "      <td>0.987213</td>\n",
       "      <td>Lion King, The (1994)</td>\n",
       "      <td>Animation&amp;Children&amp;Musical</td>\n",
       "    </tr>\n",
       "    <tr>\n",
       "      <th>90</th>\n",
       "      <td>0.984138</td>\n",
       "      <td>Nightmare Before Christmas, The (1993)</td>\n",
       "      <td>Children&amp;Comedy&amp;Musical</td>\n",
       "    </tr>\n",
       "    <tr>\n",
       "      <th>402</th>\n",
       "      <td>0.981993</td>\n",
       "      <td>Batman (1989)</td>\n",
       "      <td>Action&amp;Adventure&amp;Crime&amp;Drama</td>\n",
       "    </tr>\n",
       "    <tr>\n",
       "      <th>160</th>\n",
       "      <td>0.981699</td>\n",
       "      <td>Top Gun (1986)</td>\n",
       "      <td>Action&amp;Romance</td>\n",
       "    </tr>\n",
       "    <tr>\n",
       "      <th>384</th>\n",
       "      <td>0.979502</td>\n",
       "      <td>True Lies (1994)</td>\n",
       "      <td>Action&amp;Adventure&amp;Comedy&amp;Romance</td>\n",
       "    </tr>\n",
       "    <tr>\n",
       "      <th>229</th>\n",
       "      <td>0.978712</td>\n",
       "      <td>Star Trek IV: The Voyage Home (1986)</td>\n",
       "      <td>Action&amp;Adventure&amp;Sci-Fi</td>\n",
       "    </tr>\n",
       "    <tr>\n",
       "      <th>446</th>\n",
       "      <td>0.975836</td>\n",
       "      <td>Carrie (1976)</td>\n",
       "      <td>Horror</td>\n",
       "    </tr>\n",
       "    <tr>\n",
       "      <th>567</th>\n",
       "      <td>0.973517</td>\n",
       "      <td>Speed (1994)</td>\n",
       "      <td>Action&amp;Romance&amp;Thriller</td>\n",
       "    </tr>\n",
       "  </tbody>\n",
       "</table>\n",
       "</div>"
      ],
      "text/plain": [
       "     cosine score                                  titles  \\\n",
       "94       1.000000                          Aladdin (1992)   \n",
       "587      0.992089             Beauty and the Beast (1991)   \n",
       "70       0.987213                   Lion King, The (1994)   \n",
       "90       0.984138  Nightmare Before Christmas, The (1993)   \n",
       "402      0.981993                           Batman (1989)   \n",
       "160      0.981699                          Top Gun (1986)   \n",
       "384      0.979502                        True Lies (1994)   \n",
       "229      0.978712    Star Trek IV: The Voyage Home (1986)   \n",
       "446      0.975836                           Carrie (1976)   \n",
       "567      0.973517                            Speed (1994)   \n",
       "\n",
       "                                genres  \n",
       "94   Animation&Children&Comedy&Musical  \n",
       "587         Animation&Children&Musical  \n",
       "70          Animation&Children&Musical  \n",
       "90             Children&Comedy&Musical  \n",
       "402       Action&Adventure&Crime&Drama  \n",
       "160                     Action&Romance  \n",
       "384    Action&Adventure&Comedy&Romance  \n",
       "229            Action&Adventure&Sci-Fi  \n",
       "446                             Horror  \n",
       "567            Action&Romance&Thriller  "
      ]
     },
     "metadata": {},
     "output_type": "display_data"
    }
   ],
   "source": [
    "with torch.no_grad():\n",
    "    model_sm.to('cpu')\n",
    "    movie_neighbors(model_sm, \"Aladdin\", 'dot', k=10)\n",
    "    movie_neighbors(model_sm, \"Aladdin\", 'cosine', k=10)"
   ]
  },
  {
   "cell_type": "code",
   "execution_count": 57,
   "id": "a29c47d3",
   "metadata": {},
   "outputs": [
    {
     "name": "stdout",
     "output_type": "stream",
     "text": [
      "Running t-SNE...\n",
      "[t-SNE] Computing 121 nearest neighbors...\n",
      "[t-SNE] Indexed 1682 samples in 0.000s...\n",
      "[t-SNE] Computed neighbors for 1682 samples in 0.085s...\n",
      "[t-SNE] Computed conditional probabilities for sample 1000 / 1682\n",
      "[t-SNE] Computed conditional probabilities for sample 1682 / 1682\n",
      "[t-SNE] Mean sigma: 0.000235\n",
      "[t-SNE] KL divergence after 250 iterations with early exaggeration: 46.531586\n",
      "[t-SNE] KL divergence after 400 iterations: 0.766974\n"
     ]
    },
    {
     "data": {
      "text/plain": [
       "<matplotlib.collections.PathCollection at 0x285251ff730>"
      ]
     },
     "execution_count": 57,
     "metadata": {},
     "output_type": "execute_result"
    },
    {
     "data": {
      "image/png": "[encoded data removed]",
      "text/plain": [
       "<Figure size 432x288 with 1 Axes>"
      ]
     },
     "metadata": {
      "needs_background": "light"
     },
     "output_type": "display_data"
    }
   ],
   "source": [
    "with torch.no_grad():\n",
    "    df = tsne_movie_embeddings(model_sm)\n",
    "plt.scatter('x', 'y', data=df)"
   ]
  },
  {
   "cell_type": "code",
   "execution_count": 58,
   "id": "593d07ca",
   "metadata": {},
   "outputs": [
    {
     "data": {
      "text/plain": [
       "<matplotlib.collections.PathCollection at 0x285269646d0>"
      ]
     },
     "execution_count": 58,
     "metadata": {},
     "output_type": "execute_result"
    },
    {
     "data": {
      "image/png": "[encoded data removed]",
      "text/plain": [
       "<Figure size 432x288 with 1 Axes>"
      ]
     },
     "metadata": {
      "needs_background": "light"
     },
     "output_type": "display_data"
    }
   ],
   "source": [
    "with torch.no_grad():\n",
    "    df = movie_embedding_norm(model_sm)\n",
    "plt.scatter('num_ratings', 'norm', data=df)"
   ]
  }
 ],
 "metadata": {
  "kernelspec": {
   "display_name": "Python 3 (ipykernel)",
   "language": "python",
   "name": "python3"
  },
  "language_info": {
   "codemirror_mode": {
    "name": "ipython",
    "version": 3
   },
   "file_extension": ".py",
   "mimetype": "text/x-python",
   "name": "python",
   "nbconvert_exporter": "python",
   "pygments_lexer": "ipython3",
   "version": "3.9.7"
  }
 },
 "nbformat": 4,
 "nbformat_minor": 5
}
